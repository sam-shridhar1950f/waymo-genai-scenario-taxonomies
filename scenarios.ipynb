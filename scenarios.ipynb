{
  "nbformat": 4,
  "nbformat_minor": 0,
  "metadata": {
    "colab": {
      "provenance": []
    },
    "kernelspec": {
      "name": "python3",
      "display_name": "Python 3"
    },
    "language_info": {
      "name": "python"
    }
    
  },
  "cells": [
    {
      "cell_type": "markdown",
      "source": [
        "# Inspiration & Description\n",
        "This notebook demonstrates a tiny end-to-end pipeline that automates scenario taxonomy from testing data in the [Waymo Motion Dataset](https://waymo.com/open/) using GenAI.\n",
        "\n",
        "The goal is to replace the manual, time-consuming process of curating corner cases with an automated pipeline that parses multi-agent motion data, extracts interpretable features, and generates structured, human-readable scenario summaries. For systems and test engineering at Waymo, this matters because the space of possible driving situations is enormous (and growing!). Humans cannot hand-label or exhaustively enumerate them.  \n",
        "\n",
        "By introducing GenAI at the summarization step, we scalably turn raw kinematics into labeled scenarios that are easy to cluster and incorporate into test design.\n",
        "\n",
        "Inspiration: I started this project after reading more about Waymo's [safety framework](https://waymo.com/blog/2020/10/sharing-our-safety-framework) and thinking about how scenario taxonomy might use GenAI as Waymo rapidly scales its worldwide footprint (and thus testing)."
      ],
      "metadata": {
        "id": "-q6ufELwn9TZ"
      }
    },
    {
      "cell_type": "markdown",
      "source": [
        "## Setup & Dependencies\n",
        "\n",
        "- **Waymo proto parsing + TensorFlow** for reading `.tfrecord` scenario files\n",
        "- **Sentence Transformers** for clustering summaries into a taxonomy.  \n",
        "- **Gemini API** for structured JSON event summarization.  \n",
        "- Standard Python utilities (`json`, `numpy`, `collections`, etc)"
      ],
      "metadata": {
        "id": "LOFwAJ4bp9Fp"
      }
    },
    {
      "cell_type": "code",
      "execution_count": 10,
      "metadata": {
        "colab": {
          "base_uri": "https://localhost:8080/",
          "height": 0
        },
        "id": "X9wSbWT2sfxS",
        "outputId": "e1566f86-f63b-433b-83dc-8f7bafcaa6a7"
      },
      "outputs": [
        {
          "output_type": "stream",
          "name": "stdout",
          "text": [
            "Collecting waymo-open-dataset-tf-2-12-0==1.6.7\n",
            "  Downloading waymo_open_dataset_tf_2_12_0-1.6.7-py3-none-manylinux_2_24_x86_64.manylinux_2_28_x86_64.whl.metadata (1.8 kB)\n",
            "Downloading waymo_open_dataset_tf_2_12_0-1.6.7-py3-none-manylinux_2_24_x86_64.manylinux_2_28_x86_64.whl (3.8 MB)\n",
            "\u001b[2K   \u001b[90m━━━━━━━━━━━━━━━━━━━━━━━━━━━━━━━━━━━━━━━━\u001b[0m \u001b[32m3.8/3.8 MB\u001b[0m \u001b[31m18.2 MB/s\u001b[0m eta \u001b[36m0:00:00\u001b[0m\n",
            "\u001b[?25hInstalling collected packages: waymo-open-dataset-tf-2-12-0\n",
            "Successfully installed waymo-open-dataset-tf-2-12-0-1.6.7\n"
          ]
        }
      ],
      "source": [
        "# waymo open dataset import\n",
        "!pip install --no-deps \"waymo-open-dataset-tf-2-12-0==1.6.7\"\n",
        "!pip install -q -U google-generativeai\n",
        "!pip -q install pydantic\n",
        "from waymo_open_dataset.protos import scenario_pb2\n",
        "\n",
        "# general imports\n",
        "from google.colab import auth\n",
        "import numpy as np\n",
        "import os, json, time, re\n",
        "import requests\n",
        "import math\n",
        "import collections\n",
        "from collections import Counter\n",
        "import matplotlib.pyplot as plt\n",
        "from pathlib import Path\n",
        "\n",
        "# ml imports\n",
        "from sklearn.cluster import KMeans\n",
        "import tensorflow as tf\n",
        "from sentence_transformers import SentenceTransformer\n",
        "from sklearn.metrics import pairwise_distances_argmin_min\n",
        "\n",
        "# gemini import\n",
        "import google.generativeai as genai\n",
        "from google.colab import userdata\n",
        "\n",
        "GOOGLE_API_KEY=userdata.get('API_KEY')\n",
        "genai.configure(api_key=GOOGLE_API_KEY)"
      ]
    },
    {
      "cell_type": "code",
      "source": [
        "# authentication for google user\n",
        "auth.authenticate_user()\n",
        "\n",
        "# file slug for scenario testing data\n",
        "PATTERN = \"gs://waymo_open_dataset_motion_v_1_3_0/uncompressed/scenario/testing/testing.tfrecord-*\"\n",
        "files = tf.io.gfile.glob(PATTERN)\n",
        "print(\"files:\", len(files), \"e.g.\", files[:3])"
      ],
      "metadata": {
        "colab": {
          "base_uri": "https://localhost:8080/"
        },
        "id": "EpJu2u8eth7T",
        "outputId": "b6ae796a-c076-4e76-c33f-8f102e1eb0da"
      },
      "execution_count": null,
      "outputs": [
        {
          "output_type": "stream",
          "name": "stdout",
          "text": [
            "files: 150 e.g. ['gs://waymo_open_dataset_motion_v_1_3_0/uncompressed/scenario/testing/testing.tfrecord-00000-of-00150', 'gs://waymo_open_dataset_motion_v_1_3_0/uncompressed/scenario/testing/testing.tfrecord-00001-of-00150', 'gs://waymo_open_dataset_motion_v_1_3_0/uncompressed/scenario/testing/testing.tfrecord-00002-of-00150']\n"
          ]
        }
      ]
    },
    {
      "cell_type": "code",
      "source": [
        "# Stream all shards\n",
        "ds = tf.data.TFRecordDataset(files, num_parallel_reads=tf.data.AUTOTUNE)"
      ],
      "metadata": {
        "id": "pxxsyZgft_3x"
      },
      "execution_count": null,
      "outputs": []
    },
    {
      "cell_type": "markdown",
      "source": [
        "## Helpers\n",
        "These utility functions handle the raw Waymo Motion Dataset `.tfrecord` files and convert them into a structured format.\n",
        "\n",
        "- **`iter_scenarios`**: Iterates over serialized `Scenario` protobufs from the dataset and yields them one by one.\n",
        "- **`tracks_to_arrays`**: Converts each track into arrays of position, velocity, yaw, and timestamps, while surfacing object types (vehicle, pedestrian, cyclist). Invalid states are skipped.  \n",
        "- **`build_snapshots`**: Constructs interpretable event snapshots between the self-driving car and its objects of interest. For each pair, it computes:  \n",
        "  - Closest approach (`min_dist_m` and `step_min`)  \n",
        "  - Relative gap and orientation:  \n",
        "    - `gap_m`: distance along the self-driving car’s forward direction at closest approach  \n",
        "      - Positive → other object was ahead  \n",
        "      - Negative → other object was behind  \n",
        "    - `aligned_frac`: % of time moving in same direction (parallel flow)  \n",
        "    - `oncoming_frac`: % of time moving in opposite directions (head-on)  \n",
        "    - `ahead_frac`: % of time the other object is ahead of the self-driving car  \n",
        "- self-driving and object speeds at closest approach  \n",
        "\n",
        "These helpers synthesize data into explainable features that form the foundation for event labeling AI summarization."
      ],
      "metadata": {
        "id": "AnaqJyckqywe"
      }
    },
    {
      "cell_type": "code",
      "source": [
        "# Helpers\n",
        "\n",
        "# yield Scenario messages from a TFRecordDataset.\n",
        "def iter_scenarios(dataset, limit=None):\n",
        "    count = 0\n",
        "    for raw in dataset:\n",
        "        sc = scenario_pb2.Scenario(); sc.ParseFromString(raw.numpy())\n",
        "        yield sc\n",
        "        count += 1\n",
        "        if limit is not None and count >= limit:\n",
        "            break\n",
        "\n",
        "# convert scene tracks to arrays\n",
        "def tracks_to_arrays(sc):\n",
        "    out=[]\n",
        "    for tr in sc.tracks:\n",
        "        xs=ys=vxs=vys=yaws=ts=[]\n",
        "        xs,ys,vxs,vys,yaws,ts=[],[],[],[],[],[]\n",
        "        for st in tr.states:\n",
        "            if hasattr(st,\"valid\") and not st.valid: continue\n",
        "            xs.append(getattr(st,\"center_x\",getattr(st,\"x\",0.0)))\n",
        "            ys.append(getattr(st,\"center_y\",getattr(st,\"y\",0.0)))\n",
        "            vxs.append(getattr(st,\"velocity_x\",0.0))\n",
        "            vys.append(getattr(st,\"velocity_y\",0.0))\n",
        "            yaws.append(getattr(st,\"heading\",0.0))\n",
        "            ts.append(getattr(st,\"time_point\",getattr(st,\"timestamp_micros\",0)))\n",
        "        if xs:\n",
        "            out.append({\"id\":tr.id,\"type_num\":tr.object_type,\n",
        "                        \"x\":np.array(xs,np.float32),\"y\":np.array(ys,np.float32),\n",
        "                        \"vx\":np.array(vxs,np.float32),\"vy\":np.array(vys,np.float32),\n",
        "                        \"yaw\":np.array(yaws,np.float32),\"t\":np.array(ts,np.int64)})\n",
        "    return out\n",
        "\n",
        "# build scene snapshots with defined parameters (scene_id, speed, distance, etc)\n",
        "def unit(v):\n",
        "    n=np.linalg.norm(v); return v/(n+1e-9)\n",
        "\n",
        "def type_name(num: int) -> str:\n",
        "    return scenario_pb2.Track.ObjectType.Name(num).replace(\"TYPE_\", \"\").lower()\n",
        "\n",
        "def build_snapshots(sc, tracks):\n",
        "    sdc_id = sc.tracks[sc.sdc_track_index].id\n",
        "    important_ids = list(sc.objects_of_interest)\n",
        "    id2 = {t[\"id\"]: t for t in tracks}\n",
        "    sdc = id2.get(sdc_id); snaps=[]\n",
        "    if sdc is None: return snaps\n",
        "    sdc_type = type_name(sdc[\"type_num\"])\n",
        "\n",
        "    for oid in important_ids:\n",
        "        if oid==sdc_id or oid not in id2:\n",
        "            continue\n",
        "        oth=id2[oid]; T=min(len(sdc[\"x\"]),len(oth[\"x\"]))\n",
        "        if T<2: continue\n",
        "\n",
        "        align=[]; ahead=[]; dist=[]\n",
        "        for k in range(T):\n",
        "            f_s=unit(np.array([sdc[\"vx\"][k],sdc[\"vy\"][k]],np.float64))\n",
        "            f_o=unit(np.array([oth[\"vx\"][k],oth[\"vy\"][k]],np.float64))\n",
        "            rel=np.array([oth[\"x\"][k]-sdc[\"x\"][k],oth[\"y\"][k]-sdc[\"y\"][k]],np.float64)\n",
        "            align.append(float(f_s@f_o))\n",
        "            ahead.append(float(rel@f_s))         # >0 ahead, <0 behind\n",
        "            dist.append(float(np.linalg.norm(rel)))\n",
        "\n",
        "        kmin=int(np.argmin(dist))\n",
        "        snaps.append({\n",
        "          \"scene_id\": sc.scenario_id,\n",
        "          \"self_id\": int(sdc_id),\n",
        "          \"self_type\": sdc_type,\n",
        "          \"other_id\": int(oid),\n",
        "          \"other_type\": type_name(oth[\"type_num\"]),\n",
        "          \"is_object_of_interest\": True,\n",
        "          \"min_dist_m\": dist[kmin],\n",
        "          \"step_min\": kmin,\n",
        "          \"gap_m\": ahead[kmin],\n",
        "          \"aligned_frac\": sum(a>0.5 for a in align)/T,\n",
        "          \"oncoming_frac\": sum(a<-0.5 for a in align)/T,\n",
        "          \"ahead_frac\": sum(g>0 for g in ahead)/T,\n",
        "          \"self_speed_mps\": float(np.hypot(sdc[\"vx\"][kmin],sdc[\"vy\"][kmin])),\n",
        "          \"other_speed_mps\": float(np.hypot(oth[\"vx\"][kmin],oth[\"vy\"][kmin])),\n",
        "        })\n",
        "    return snaps"
      ],
      "metadata": {
        "id": "BJdVR0teuGFI"
      },
      "execution_count": null,
      "outputs": []
    },
    {
      "cell_type": "code",
      "source": [
        "def label_snapshot(s):\n",
        "    # thresholds\n",
        "    CLOSE_PASS_M      = 5.0\n",
        "    FOLLOW_HW_S       = 1.0\n",
        "    FOLLOW_GAP_M      = 15.0\n",
        "    ONCOMING_TTC_S    = 2.0\n",
        "    PED_CYC_NEAR_M    = 12.0\n",
        "    CROSSING_DIST_M   = 20.0\n",
        "    CROSSING_ALIGN_MAX= 0.3\n",
        "\n",
        "    # 1) close pass\n",
        "    if s[\"min_dist_m\"] <= CLOSE_PASS_M:\n",
        "        return \"close_pass\"\n",
        "\n",
        "    # 2) following too close (same-ish direction, other mostly ahead)\n",
        "    if s[\"aligned_frac\"] > 0.5 and s[\"ahead_frac\"] > 0.5 and s[\"gap_m\"] > 0:\n",
        "        hw = s[\"gap_m\"] / max(0.1, s[\"self_speed_mps\"])\n",
        "        if hw < FOLLOW_HW_S and s[\"gap_m\"] < FOLLOW_GAP_M:\n",
        "            return \"following_too_close\"\n",
        "\n",
        "    # 3) oncoming interaction\n",
        "    if s[\"oncoming_frac\"] > 0.5:\n",
        "        ttc = s[\"min_dist_m\"] / max(0.1, s[\"self_speed_mps\"] + s[\"other_speed_mps\"])\n",
        "        if ttc < ONCOMING_TTC_S:\n",
        "            return \"oncoming_interaction\"\n",
        "\n",
        "    # 4) VRU nearby (only if none of the above fired)\n",
        "    if s[\"other_type\"] in {\"pedestrian\",\"cyclist\"} and s[\"min_dist_m\"] <= PED_CYC_NEAR_M:\n",
        "        return \"ped_or_cyclist_nearby\"\n",
        "\n",
        "    # 5) crossing paths (only if none of the above)\n",
        "    if s[\"aligned_frac\"] <= CROSSING_ALIGN_MAX and s[\"min_dist_m\"] <= CROSSING_DIST_M:\n",
        "        return \"crossing_paths\"\n",
        "\n",
        "    # 6) default\n",
        "    return \"none\"\n",
        "\n",
        "# textual summaries to provide template / exemplar for Gemini\n",
        "def summarize_from_label(s):\n",
        "    if s[\"label\"] == \"ped_or_cyclist_nearby\":\n",
        "        return f\"{s['self_type']} near a {s['other_type']} (min distance ≈ {s['min_dist_m']:.1f} m).\"\n",
        "    if s[\"label\"] == \"crossing_paths\":\n",
        "        return f\"{s['self_type']} and {s['other_type']} move on crossing paths; min distance ≈ {s['min_dist_m']:.1f} m.\"\n",
        "    if s[\"label\"] == \"close_pass\":\n",
        "        return f\"{s['self_type']} and {s['other_type']} pass within {s['min_dist_m']:.1f} m at step {s['step_min']}.\"\n",
        "    if s[\"label\"] == \"following_too_close\":\n",
        "        hw = s[\"gap_m\"] / max(0.1, s[\"self_speed_mps\"])\n",
        "        return f\"{s['self_type']} follows a {s['other_type']} with headway ≈ {hw:.1f} s (gap ≈ {s['gap_m']:.1f} m).\"\n",
        "    if s[\"label\"] == \"oncoming_interaction\":\n",
        "        ttc = s[\"min_dist_m\"] / max(0.1, s[\"self_speed_mps\"] + s[\"other_speed_mps\"])\n",
        "        return f\"{s['self_type']} and {s['other_type']} approach head-on; TTC ≈ {ttc:.1f} s (min distance ≈ {s['min_dist_m']:.1f} m).\"\n",
        "    return f\"No notable event between {s['self_type']} and {s['other_type']} (min distance {s['min_dist_m']:.1f} m).\"\n"
      ],
      "metadata": {
        "id": "5kC32QvUuL9Q"
      },
      "execution_count": null,
      "outputs": []
    },
    {
      "cell_type": "markdown",
      "source": [
        "## Event Writer\n",
        "This step ties the helpers together into a single pass over the dataset.  \n",
        "For each scenario:\n",
        "\n",
        "- Extract tracks and build interaction snapshots.  \n",
        "- Apply the **heuristic event labeler** (`label_snapshot`) to categorize the interaction.  \n",
        "- Generate a **deterministic summary** (`summarize_from_label`) to provide an exemplar / template to Gemini.  \n",
        "- Write everything into a JSON Lines file (`scenario_events.jsonl`) for later use.  \n",
        "\n",
        "The output includes both structured data (distances, fractions) and a label/summary.  \n",
        "We also keep a running counter of label frequencies to get a quick sense of dataset coverage."
      ],
      "metadata": {
        "id": "MhFQi-3os_ej"
      }
    },
    {
      "cell_type": "code",
      "source": [
        "OUTP   = \"/content/scenario_events.jsonl\"\n",
        "SCENES = 200  # or None\n",
        "\n",
        "counts = collections.Counter()\n",
        "wrote = 0\n",
        "\n",
        "with tf.io.gfile.GFile(OUTP, \"w\") as fout:\n",
        "    for sc in iter_scenarios(ds, limit=SCENES):\n",
        "        tracks = tracks_to_arrays(sc)\n",
        "\n",
        "        for s in build_snapshots(sc, tracks):\n",
        "            s[\"label\"]   = label_snapshot(s)\n",
        "            s[\"summary\"] = summarize_from_label(s)\n",
        "            fout.write(json.dumps(s) + \"\\n\")\n",
        "            counts[s[\"label\"]] += 1\n",
        "            wrote += 1\n",
        "\n",
        "print(f\"events written: {wrote} → {OUTP}\")\n",
        "print(\"label counts:\", dict(counts))\n"
      ],
      "metadata": {
        "colab": {
          "base_uri": "https://localhost:8080/"
        },
        "id": "IKfhC7ixu6cb",
        "outputId": "76955836-7fad-4fda-e8ed-6bd8d64a198b"
      },
      "execution_count": null,
      "outputs": [
        {
          "output_type": "stream",
          "name": "stdout",
          "text": [
            "events written: 103 → /content/scenario_events.jsonl\n",
            "label counts: {'none': 87, 'close_pass': 3, 'crossing_paths': 9, 'following_too_close': 1, 'ped_or_cyclist_nearby': 3}\n"
          ]
        }
      ]
    },
    {
      "cell_type": "markdown",
      "source": [
        "Most interactions in the sample look uneventful (wide gaps, parallel motion, nothing risky), which is why the majority get the `none` label. A few rarer cases (close passes, crossing paths, bikes/peds) show up in smaller numbers, hinting at edge-cases this pipeline could surface."
      ],
      "metadata": {
        "id": "qAsN6vNktcjV"
      }
    },
    {
      "cell_type": "code",
      "source": [
        "!head -n 5 /content/scenario_events.jsonl || true"
      ],
      "metadata": {
        "colab": {
          "base_uri": "https://localhost:8080/"
        },
        "id": "4-CaLtiGvKdZ",
        "outputId": "8455cf17-1670-4063-9608-059c0be2b58b"
      },
      "execution_count": null,
      "outputs": [
        {
          "output_type": "stream",
          "name": "stdout",
          "text": [
            "{\"scene_id\": \"81cb7891dfe69679\", \"self_id\": 2545, \"self_type\": \"vehicle\", \"other_id\": 1671, \"other_type\": \"vehicle\", \"is_object_of_interest\": true, \"min_dist_m\": 24.931882360581174, \"step_min\": 10, \"gap_m\": 22.937731813339134, \"aligned_frac\": 0.0, \"oncoming_frac\": 0.0, \"ahead_frac\": 1.0, \"self_speed_mps\": 4.325139045715332, \"other_speed_mps\": 1.1509385108947754, \"label\": \"none\", \"summary\": \"No notable event between vehicle and vehicle (min distance 24.9 m).\"}\n",
            "{\"scene_id\": \"81cb7891dfe69679\", \"self_id\": 2545, \"self_type\": \"vehicle\", \"other_id\": 1666, \"other_type\": \"vehicle\", \"is_object_of_interest\": true, \"min_dist_m\": 33.02607636391494, \"step_min\": 10, \"gap_m\": 32.7131291964221, \"aligned_frac\": 0.0, \"oncoming_frac\": 1.0, \"ahead_frac\": 1.0, \"self_speed_mps\": 4.325139045715332, \"other_speed_mps\": 1.0597200393676758, \"label\": \"none\", \"summary\": \"No notable event between vehicle and vehicle (min distance 33.0 m).\"}\n",
            "{\"scene_id\": \"3e4bd1a8eab0cab7\", \"self_id\": 5718, \"self_type\": \"vehicle\", \"other_id\": 1892, \"other_type\": \"vehicle\", \"is_object_of_interest\": true, \"min_dist_m\": 24.82932630649153, \"step_min\": 10, \"gap_m\": 24.804961476502605, \"aligned_frac\": 1.0, \"oncoming_frac\": 0.0, \"ahead_frac\": 1.0, \"self_speed_mps\": 9.80671501159668, \"other_speed_mps\": 7.678321838378906, \"label\": \"none\", \"summary\": \"No notable event between vehicle and vehicle (min distance 24.8 m).\"}\n",
            "{\"scene_id\": \"3e4bd1a8eab0cab7\", \"self_id\": 5718, \"self_type\": \"vehicle\", \"other_id\": 5714, \"other_type\": \"cyclist\", \"is_object_of_interest\": true, \"min_dist_m\": 20.724492975896208, \"step_min\": 10, \"gap_m\": 20.62348459883471, \"aligned_frac\": 1.0, \"oncoming_frac\": 0.0, \"ahead_frac\": 1.0, \"self_speed_mps\": 9.80671501159668, \"other_speed_mps\": 4.875644683837891, \"label\": \"none\", \"summary\": \"No notable event between vehicle and cyclist (min distance 20.7 m).\"}\n",
            "{\"scene_id\": \"fc4e419e4a31ced3\", \"self_id\": 1837, \"self_type\": \"vehicle\", \"other_id\": 1351, \"other_type\": \"vehicle\", \"is_object_of_interest\": true, \"min_dist_m\": 11.417788802098253, \"step_min\": 0, \"gap_m\": -9.219469893201842, \"aligned_frac\": 1.0, \"oncoming_frac\": 0.0, \"ahead_frac\": 0.0, \"self_speed_mps\": 3.400344133377075, \"other_speed_mps\": 1.6034513711929321, \"label\": \"none\", \"summary\": \"No notable event between vehicle and vehicle (min distance 11.4 m).\"}\n"
          ]
        }
      ]
    },
    {
      "cell_type": "markdown",
      "source": [
        "Here we define a JSON schema for GenAI outputs and initialize the Gemini model with low temperature (for rigid outputs), extra token budget, and forced JSON mode. This ensures each scenario is summarized consistently with event labels and relevant data in a structured, machine-usable format.\n"
      ],
      "metadata": {
        "id": "f4xNN12Xur65"
      }
    },
    {
      "cell_type": "code",
      "source": [
        "EVENT_LABELS = [\n",
        "  \"close_pass\",\"following_too_close\",\"oncoming_interaction\",\n",
        "  \"ped_or_cyclist_nearby\",\"crossing_paths\",\"none\"\n",
        "]\n",
        "\n",
        "RESPONSE_SCHEMA = {\n",
        "  \"type\": \"object\",\n",
        "  \"properties\": {\n",
        "    \"scene_id\":   {\"type\": \"string\"},\n",
        "    \"self_type\":  {\"type\": \"string\", \"enum\": [\"vehicle\",\"pedestrian\",\"cyclist\"]},\n",
        "    \"other_type\": {\"type\": \"string\", \"enum\": [\"vehicle\",\"pedestrian\",\"cyclist\"]},\n",
        "    \"event_label\":{\"type\": \"string\", \"enum\": EVENT_LABELS},\n",
        "    \"risk_factors\":{\"type\": \"array\", \"items\": {\"type\": \"string\"}},\n",
        "    \"key_numbers\": {\n",
        "      \"type\": \"object\",\n",
        "      \"properties\": {\n",
        "        \"min_distance_m\": {\"type\": \"number\"},\n",
        "        \"headway_s\": {\"type\": \"number\", \"nullable\": True},\n",
        "        \"ttc_s\":     {\"type\": \"number\", \"nullable\": True}\n",
        "      },\n",
        "      \"required\": [\"min_distance_m\",\"headway_s\",\"ttc_s\"]\n",
        "    },\n",
        "    \"summary\":    {\"type\": \"string\"},\n",
        "    \"confidence\": {\"type\": \"number\"}\n",
        "  },\n",
        "  \"required\": [\"scene_id\",\"self_type\",\"other_type\",\"event_label\",\n",
        "               \"key_numbers\",\"summary\",\"confidence\"]\n",
        "}"
      ],
      "metadata": {
        "id": "-zNXmAq7xvxg"
      },
      "execution_count": null,
      "outputs": []
    },
    {
      "cell_type": "code",
      "source": [
        "model = genai.GenerativeModel(\n",
        "    model_name=\"gemini-2.5-flash\",\n",
        "    generation_config=genai.GenerationConfig(\n",
        "        temperature=0.2,\n",
        "        max_output_tokens=1024,                 # extra headroom avoids empty parts\n",
        "        response_mime_type=\"application/json\",  # force JSON output\n",
        "        response_schema=RESPONSE_SCHEMA,        # supported fields only\n",
        "    ),\n",
        ")"
      ],
      "metadata": {
        "id": "MnH0u0GSycfK"
      },
      "execution_count": null,
      "outputs": []
    },
    {
      "cell_type": "markdown",
      "source": [
        "Building the prompt to pass into the model."
      ],
      "metadata": {
        "id": "hBWqb-0rvEzu"
      }
    },
    {
      "cell_type": "code",
      "source": [
        "def make_prompt(evt: dict) -> str:\n",
        "    headway = (evt[\"gap_m\"]/max(0.1, evt[\"self_speed_mps\"])) if evt[\"gap_m\"]>0 else None\n",
        "    ttc = (evt[\"min_dist_m\"]/max(0.1, evt[\"self_speed_mps\"]+evt[\"other_speed_mps\"])) if evt[\"oncoming_frac\"]>0.5 else None\n",
        "    return (\n",
        "        \"Summarize this driving interaction in one sentence. \"\n",
        "        \"Pick an event_label from the allowed set; use 'none' if nothing notable.\\n\\n\"\n",
        "        f\"scene_id={evt['scene_id']}\\n\"\n",
        "        f\"self_type={evt['self_type']}  other_type={evt['other_type']}\\n\"\n",
        "        f\"min_distance_m={evt['min_dist_m']:.2f}  step_min={evt['step_min']}\\n\"\n",
        "        f\"aligned_frac={evt['aligned_frac']:.2f}  oncoming_frac={evt['oncoming_frac']:.2f}  ahead_frac={evt['ahead_frac']:.2f}\\n\"\n",
        "        f\"gap_m={evt['gap_m']:.2f}  self_speed_mps={evt['self_speed_mps']:.2f}  other_speed_mps={evt['other_speed_mps']:.2f}\\n\"\n",
        "        f\"computed_headway_s={headway if headway is not None else 'null'}  \"\n",
        "        f\"computed_ttc_s={ttc if ttc is not None else 'null'}\\n\"\n",
        "        \"Return only the JSON object per the schema.\"\n",
        "    )\n"
      ],
      "metadata": {
        "id": "odbDSOJsygKD"
      },
      "execution_count": null,
      "outputs": []
    },
    {
      "cell_type": "markdown",
      "source": [
        "We stream each snapshot through Gemini. Any malformed or empty generations are logged and skipped.\n"
      ],
      "metadata": {
        "id": "bib4z7dmvQpq"
      }
    },
    {
      "cell_type": "code",
      "source": [
        "INP = \"/content/scenario_events.jsonl\"\n",
        "\n",
        "def _parse_json_part(text: str):\n",
        "    if not text:\n",
        "        return None\n",
        "    t = text.strip()\n",
        "    # strip ```json ... ``` fences if present\n",
        "    if t.startswith(\"```\"):\n",
        "        t = re.sub(r\"^```(?:json)?\\n?\", \"\", t)\n",
        "        t = re.sub(r\"\\n?```$\", \"\", t)\n",
        "    # take substring between first { and last }\n",
        "    i, j = t.find(\"{\"), t.rfind(\"}\")\n",
        "    if i != -1 and j != -1 and j > i:\n",
        "        t = t[i:j+1]\n",
        "    # normalize smart quotes\n",
        "    t = (t.replace(\"\\u201c\", '\"').replace(\"\\u201d\", '\"')\n",
        "           .replace(\"\\u2018\", \"'\").replace(\"\\u2019\", \"'\"))\n",
        "    try:\n",
        "        return json.loads(t)\n",
        "    except json.JSONDecodeError:\n",
        "        return None\n",
        "\n",
        "printed = 0\n",
        "skipped = 0\n",
        "\n",
        "with open(INP) as fin:\n",
        "    for line in fin:\n",
        "        evt = json.loads(line)\n",
        "\n",
        "        resp = model.generate_content(make_prompt(evt))\n",
        "        cand = resp.candidates[0] if resp.candidates else None\n",
        "        parts = cand.content.parts if (cand and cand.content) else []\n",
        "\n",
        "        if not parts:\n",
        "            skipped += 1\n",
        "            print(json.dumps({\n",
        "                \"scene_id\": evt.get(\"scene_id\"),\n",
        "                \"other_id\": evt.get(\"other_id\"),\n",
        "                \"status\": \"skipped\",\n",
        "                \"finish_reason\": getattr(cand, \"finish_reason\", None),\n",
        "                \"prompt_feedback\": getattr(resp, \"prompt_feedback\", None),\n",
        "            }, default=str))\n",
        "            continue\n",
        "\n",
        "        obj = _parse_json_part(parts[0].text)\n",
        "        if obj is None:\n",
        "            skipped += 1\n",
        "            print(json.dumps({\n",
        "                \"scene_id\": evt.get(\"scene_id\"),\n",
        "                \"other_id\": evt.get(\"other_id\"),\n",
        "                \"status\": \"skipped_parse_error\"\n",
        "            }))\n",
        "            continue\n",
        "\n",
        "\n",
        "        obj[\"raw_features\"] = {\n",
        "            k: evt[k] for k in [\n",
        "                \"min_dist_m\",\"gap_m\",\"aligned_frac\",\"oncoming_frac\",\n",
        "                \"ahead_frac\",\"self_speed_mps\",\"other_speed_mps\",\"step_min\"\n",
        "            ] if k in evt\n",
        "        }\n",
        "        print(json.dumps(obj, ensure_ascii=False))\n",
        "        printed += 1\n",
        "\n",
        "print(f\"printed={printed} skipped={skipped}\")"
      ],
      "metadata": {
        "id": "NgWPWvEDyy3B"
      },
      "execution_count": null,
      "outputs": []
    },
    {
      "cell_type": "markdown",
      "source": [
        "A peek into outputs.txt. Let's surface some interesting outputs."
      ],
      "metadata": {
        "id": "jWT4jbvfwYMS"
      }
    },
    {
      "cell_type": "code",
      "source": [
        "!head -n 60 /content/outputs.txt || true"
      ],
      "metadata": {
        "colab": {
          "base_uri": "https://localhost:8080/",
          "height": 0
        },
        "id": "N4TO5pGA_yDC",
        "outputId": "8d9f1c0f-5e83-403a-e450-a784090af652"
      },
      "execution_count": 24,
      "outputs": [
        {
          "output_type": "stream",
          "name": "stdout",
          "text": [
            "{\"scene_id\": \"81cb7891dfe69679\", \"self_type\": \"vehicle\", \"other_type\": \"vehicle\", \"event_label\": \"none\", \"key_numbers\": {\"min_distance_m\": 24.93, \"headway_s\": 5.303351307528999, \"ttc_s\": null}, \"summary\": \"The self vehicle followed another vehicle at a minimum distance of 24.93 meters with a headway of 5.30 seconds.\", \"confidence\": 0.9, \"risk_factors\": [], \"raw_features\": {\"min_dist_m\": 24.931882360581174, \"gap_m\": 22.937731813339134, \"aligned_frac\": 0.0, \"oncoming_frac\": 0.0, \"ahead_frac\": 1.0, \"self_speed_mps\": 4.325139045715332, \"other_speed_mps\": 1.1509385108947754, \"step_min\": 10}}\n",
            "{\"scene_id\": \"81cb7891dfe69679\", \"other_id\": 1666, \"status\": \"skipped\", \"finish_reason\": 2, \"prompt_feedback\": \"\"}\n",
            "{\"scene_id\": \"3e4bd1a8eab0cab7\", \"self_type\": \"vehicle\", \"other_type\": \"vehicle\", \"event_label\": \"none\", \"key_numbers\": {\"min_distance_m\": 24.83, \"headway_s\": 2.5293853698379256, \"ttc_s\": null}, \"summary\": \"The self vehicle followed another vehicle at a safe distance and headway.\", \"confidence\": 0.9, \"risk_factors\": [], \"raw_features\": {\"min_dist_m\": 24.82932630649153, \"gap_m\": 24.804961476502605, \"aligned_frac\": 1.0, \"oncoming_frac\": 0.0, \"ahead_frac\": 1.0, \"self_speed_mps\": 9.80671501159668, \"other_speed_mps\": 7.678321838378906, \"step_min\": 10}}\n",
            "{\"scene_id\": \"3e4bd1a8eab0cab7\", \"self_type\": \"vehicle\", \"other_type\": \"cyclist\", \"event_label\": \"ped_or_cyclist_nearby\", \"key_numbers\": {\"min_distance_m\": 20.72, \"headway_s\": 2.102996219880657, \"ttc_s\": null}, \"summary\": \"A vehicle was following a cyclist at a minimum distance of 20.72 meters and a headway of 2.10 seconds.\", \"confidence\": 1.0, \"risk_factors\": [], \"raw_features\": {\"min_dist_m\": 20.724492975896208, \"gap_m\": 20.62348459883471, \"aligned_frac\": 1.0, \"oncoming_frac\": 0.0, \"ahead_frac\": 1.0, \"self_speed_mps\": 9.80671501159668, \"other_speed_mps\": 4.875644683837891, \"step_min\": 10}}\n",
            "{\"scene_id\": \"fc4e419e4a31ced3\", \"self_type\": \"vehicle\", \"other_type\": \"vehicle\", \"event_label\": \"none\", \"key_numbers\": {\"min_distance_m\": 11.42, \"headway_s\": null, \"ttc_s\": null}, \"summary\": \"The self vehicle and another vehicle maintained a safe distance, with the other vehicle trailing behind.\", \"confidence\": 0.9, \"risk_factors\": [], \"raw_features\": {\"min_dist_m\": 11.417788802098253, \"gap_m\": -9.219469893201842, \"aligned_frac\": 1.0, \"oncoming_frac\": 0.0, \"ahead_frac\": 0.0, \"self_speed_mps\": 3.400344133377075, \"other_speed_mps\": 1.6034513711929321, \"step_min\": 0}}\n",
            "{\"scene_id\": \"fc4e419e4a31ced3\", \"self_type\": \"vehicle\", \"other_type\": \"vehicle\", \"event_label\": \"none\", \"key_numbers\": {\"min_distance_m\": 18.18, \"headway_s\": null, \"ttc_s\": null}, \"summary\": \"The two vehicles maintained a safe distance from each other, with the ego vehicle moving faster than the other.\", \"confidence\": 0.9, \"risk_factors\": [], \"raw_features\": {\"min_dist_m\": 18.17952200440187, \"gap_m\": -17.875061156070426, \"aligned_frac\": 1.0, \"oncoming_frac\": 0.0, \"ahead_frac\": 0.0, \"self_speed_mps\": 3.400344133377075, \"other_speed_mps\": 2.0025556087493896, \"step_min\": 0}}\n",
            "{\"scene_id\": \"486579085e5d7e94\", \"self_type\": \"vehicle\", \"other_type\": \"vehicle\", \"event_label\": \"none\", \"key_numbers\": {\"min_distance_m\": 17.3, \"headway_s\": 17.821491797272973, \"ttc_s\": null}, \"summary\": \"The ego vehicle and another vehicle maintained a safe distance with a minimum separation of 17.30 meters and a headway of 17.82 seconds.\", \"confidence\": 0.9, \"risk_factors\": [], \"raw_features\": {\"min_dist_m\": 17.300622170621953, \"gap_m\": 17.197955814693536, \"aligned_frac\": 1.0, \"oncoming_frac\": 0.0, \"ahead_frac\": 1.0, \"self_speed_mps\": 0.9650121331214905, \"other_speed_mps\": 2.9796621799468994, \"step_min\": 0}}\n",
            "{\"scene_id\": \"486579085e5d7e94\", \"self_type\": \"vehicle\", \"other_type\": \"pedestrian\", \"event_label\": \"none\", \"key_numbers\": {\"min_distance_m\": 27.7, \"headway_s\": 15.56984659176608, \"ttc_s\": null}, \"summary\": \"A vehicle passed a pedestrian with a minimum distance of 27.70 meters and a headway of 15.57 seconds, indicating no significant interaction.\", \"confidence\": 0.9, \"risk_factors\": [], \"raw_features\": {\"min_dist_m\": 27.700387819489677, \"gap_m\": 27.401522951696904, \"aligned_frac\": 0.36363636363636365, \"oncoming_frac\": 0.09090909090909091, \"ahead_frac\": 1.0, \"self_speed_mps\": 1.7599096298217773, \"other_speed_mps\": 0.06181146949529648, \"step_min\": 10}}\n",
            "{\"scene_id\": \"46ce2273b09f306\", \"other_id\": 3883, \"status\": \"skipped_parse_error\"}\n",
            "{\"scene_id\": \"46ce2273b09f306\", \"self_type\": \"vehicle\", \"other_type\": \"pedestrian\", \"event_label\": \"crossing_paths\", \"key_numbers\": {\"min_distance_m\": 3.05, \"headway_s\": null, \"ttc_s\": 1.7891320052076258}, \"summary\": \"A stationary vehicle had a close interaction with a pedestrian who was moving and potentially crossing its path, with a minimum distance of 3.05 meters and a time-to-collision of 1.79 seconds.\", \"confidence\": 0.9, \"raw_features\": {\"min_dist_m\": 3.0453193997206602, \"gap_m\": -1.466828432947926, \"aligned_frac\": 0.36363636363636365, \"oncoming_frac\": 0.5454545454545454, \"ahead_frac\": 0.5454545454545454, \"self_speed_mps\": 0.0007271732902154326, \"other_speed_mps\": 1.701393961906433, \"step_min\": 0}}\n",
            "{\"scene_id\": \"f13feb8f701b9fb0\", \"self_type\": \"vehicle\", \"other_type\": \"vehicle\", \"event_label\": \"none\", \"key_numbers\": {\"min_distance_m\": 11.13, \"headway_s\": null, \"ttc_s\": null}, \"summary\": \"The self vehicle and another vehicle maintained a minimum distance of 11.13 meters.\", \"confidence\": 1.0, \"risk_factors\": [], \"raw_features\": {\"min_dist_m\": 11.134207420629759, \"gap_m\": -10.636882882798492, \"aligned_frac\": 1.0, \"oncoming_frac\": 0.0, \"ahead_frac\": 0.0, \"self_speed_mps\": 8.836662292480469, \"other_speed_mps\": 7.118333339691162, \"step_min\": 0}}\n",
            "{\"scene_id\": \"f13feb8f701b9fb0\", \"self_type\": \"vehicle\", \"other_type\": \"vehicle\", \"event_label\": \"none\", \"key_numbers\": {\"min_distance_m\": 26.26, \"headway_s\": null, \"ttc_s\": null}, \"summary\": \"A vehicle interaction occurred with a minimum distance of 26.26 meters, but no notable event was detected.\", \"confidence\": 1.0, \"risk_factors\": [], \"raw_features\": {\"min_dist_m\": 26.255668029337635, \"gap_m\": -26.212460957413217, \"aligned_frac\": 1.0, \"oncoming_frac\": 0.0, \"ahead_frac\": 0.0, \"self_speed_mps\": 8.047483444213867, \"other_speed_mps\": 8.978867530822754, \"step_min\": 9}}\n",
            "{\"scene_id\": \"87c6f2e5ca6bb544\", \"self_type\": \"vehicle\", \"other_type\": \"vehicle\", \"event_label\": \"none\", \"key_numbers\": {\"min_distance_m\": 22.76, \"headway_s\": 2.48, \"ttc_s\": null}, \"summary\": \"The self vehicle followed another vehicle at a safe distance and headway.\", \"confidence\": 0.95, \"raw_features\": {\"min_dist_m\": 22.76070754274889, \"gap_m\": 21.546050480703254, \"aligned_frac\": 0.0, \"oncoming_frac\": 0.0, \"ahead_frac\": 1.0, \"self_speed_mps\": 8.674993515014648, \"other_speed_mps\": 0.41015806794166565, \"step_min\": 10}}\n",
            "{\"scene_id\": \"4fa08564c9c2501e\", \"self_type\": \"vehicle\", \"other_type\": \"vehicle\", \"event_label\": \"none\", \"key_numbers\": {\"min_distance_m\": 26.17, \"headway_s\": null, \"ttc_s\": null}, \"summary\": \"The self vehicle was stationary while another vehicle passed at a minimum distance of 26.17 meters.\", \"confidence\": 0.9, \"risk_factors\": [], \"raw_features\": {\"min_dist_m\": 26.17202890016371, \"gap_m\": -15.102222971744698, \"aligned_frac\": 0.2222222222222222, \"oncoming_frac\": 0.3333333333333333, \"ahead_frac\": 0.4444444444444444, \"self_speed_mps\": 0.0005436681094579399, \"other_speed_mps\": 1.8612360954284668, \"step_min\": 8}}\n",
            "{\"scene_id\": \"4fa08564c9c2501e\", \"self_type\": \"vehicle\", \"other_type\": \"vehicle\", \"event_label\": \"none\", \"key_numbers\": {\"min_distance_m\": 30.92, \"headway_s\": null, \"ttc_s\": null}, \"summary\": \"The ego vehicle and another vehicle maintained a safe distance of 30.92 meters, with the other vehicle moving at 10.52 m/s while the ego vehicle was stationary.\", \"confidence\": 0.9, \"risk_factors\": [], \"raw_features\": {\"min_dist_m\": 30.920490015636858, \"gap_m\": -28.552451679576993, \"aligned_frac\": 0.5454545454545454, \"oncoming_frac\": 0.2727272727272727, \"ahead_frac\": 0.36363636363636365, \"self_speed_mps\": 0.0006874122773297131, \"other_speed_mps\": 10.519429206848145, \"step_min\": 10}}\n",
            "{\"scene_id\": \"db856bd2e8642df1\", \"self_type\": \"vehicle\", \"other_type\": \"vehicle\", \"event_label\": \"none\", \"key_numbers\": {\"min_distance_m\": 21.58, \"headway_s\": 10.142284119212967, \"ttc_s\": null}, \"summary\": \"A vehicle followed another vehicle at a safe distance and headway.\", \"confidence\": 0.9, \"risk_factors\": [], \"raw_features\": {\"min_dist_m\": 21.578775363280858, \"gap_m\": 10.518498348757461, \"aligned_frac\": 0.18181818181818182, \"oncoming_frac\": 0.2727272727272727, \"ahead_frac\": 1.0, \"self_speed_mps\": 1.0370936393737793, \"other_speed_mps\": 0.1355859935283661, \"step_min\": 10}}\n",
            "{\"scene_id\": \"db856bd2e8642df1\", \"self_type\": \"vehicle\", \"other_type\": \"pedestrian\", \"event_label\": \"oncoming_interaction\", \"key_numbers\": {\"min_distance_m\": 18.41, \"headway_s\": 11.84501319818008, \"ttc_s\": 8.030029119097133}, \"summary\": \"A vehicle had an oncoming interaction with a pedestrian, maintaining a minimum distance of 18.41 meters.\", \"confidence\": 0.9, \"raw_features\": {\"min_dist_m\": 18.410814809321593, \"gap_m\": 12.284387846131029, \"aligned_frac\": 0.0, \"oncoming_frac\": 1.0, \"ahead_frac\": 1.0, \"self_speed_mps\": 1.0370936393737793, \"other_speed_mps\": 1.2556520700454712, \"step_min\": 10}}\n",
            "{\"scene_id\": \"58802d4ae961bbe8\", \"self_type\": \"vehicle\", \"other_type\": \"vehicle\", \"event_label\": \"none\", \"key_numbers\": {\"min_distance_m\": 29.53, \"headway_s\": 2.3820068520559694, \"ttc_s\": null}, \"summary\": \"The self vehicle followed another vehicle at a safe distance and headway.\", \"confidence\": 0.9, \"risk_factors\": [], \"raw_features\": {\"min_dist_m\": 29.52651694581383, \"gap_m\": 26.671806698586582, \"aligned_frac\": 0.0, \"oncoming_frac\": 0.0, \"ahead_frac\": 1.0, \"self_speed_mps\": 11.197199821472168, \"other_speed_mps\": 1.3868240118026733, \"step_min\": 10}}\n",
            "{\"scene_id\": \"33f92eb06d68fbb0\", \"self_type\": \"vehicle\", \"other_type\": \"vehicle\", \"event_label\": \"none\", \"key_numbers\": {\"min_distance_m\": 35.59, \"headway_s\": null, \"ttc_s\": null}, \"summary\": \"The self vehicle and another vehicle maintained a significant distance, with the other vehicle moving much faster.\", \"confidence\": 0.9, \"risk_factors\": [], \"raw_features\": {\"min_dist_m\": 35.58878298955584, \"gap_m\": -34.207726556878036, \"aligned_frac\": 1.0, \"oncoming_frac\": 0.0, \"ahead_frac\": 0.0, \"self_speed_mps\": 0.811572790145874, \"other_speed_mps\": 11.472932815551758, \"step_min\": 10}}\n",
            "{\"scene_id\": \"33f92eb06d68fbb0\", \"self_type\": \"vehicle\", \"other_type\": \"vehicle\", \"event_label\": \"none\", \"key_numbers\": {\"min_distance_m\": 21.24, \"headway_s\": null, \"ttc_s\": null}, \"summary\": \"The self vehicle and another vehicle maintained a distance of over 21 meters, with the other vehicle approaching from behind at a higher speed.\", \"confidence\": 0.9, \"risk_factors\": [], \"raw_features\": {\"min_dist_m\": 21.23993390691963, \"gap_m\": -18.19871166931646, \"aligned_frac\": 1.0, \"oncoming_frac\": 0.0, \"ahead_frac\": 0.0, \"self_speed_mps\": 0.811572790145874, \"other_speed_mps\": 9.180910110473633, \"step_min\": 10}}\n",
            "{\"scene_id\": \"edda5ae5a5393772\", \"self_type\": \"vehicle\", \"other_type\": \"vehicle\", \"event_label\": \"oncoming_interaction\", \"key_numbers\": {\"min_distance_m\": 15.98, \"headway_s\": 5.585365597310379, \"ttc_s\": 4.985981188786422}, \"summary\": \"The self vehicle and another oncoming vehicle had a safe interaction with a minimum distance of 15.98 meters, a headway of 5.59 seconds, and a time-to-collision of 4.99 seconds.\", \"confidence\": 0.9, \"raw_features\": {\"min_dist_m\": 15.975574663829025, \"gap_m\": 10.649464859890331, \"aligned_frac\": 0.0, \"oncoming_frac\": 1.0, \"ahead_frac\": 1.0, \"self_speed_mps\": 1.9066728353500366, \"other_speed_mps\": 1.297425627708435, \"step_min\": 10}}\n",
            "{\"scene_id\": \"6e086a6ef1a58234\", \"other_id\": 9, \"status\": \"skipped_parse_error\"}\n",
            "{\"scene_id\": \"440a3b837e01bfdf\", \"self_type\": \"vehicle\", \"other_type\": \"vehicle\", \"event_label\": \"none\", \"key_numbers\": {\"min_distance_m\": 7.78, \"headway_s\": 2.578220551376335, \"ttc_s\": null}, \"summary\": \"The ego vehicle maintained a safe distance and headway behind another vehicle.\", \"confidence\": 0.9, \"risk_factors\": [], \"raw_features\": {\"min_dist_m\": 7.777988705029076, \"gap_m\": 6.614934461368317, \"aligned_frac\": 1.0, \"oncoming_frac\": 0.0, \"ahead_frac\": 1.0, \"self_speed_mps\": 2.56569766998291, \"other_speed_mps\": 8.085963249206543, \"step_min\": 0}}\n",
            "{\"scene_id\": \"440a3b837e01bfdf\", \"self_type\": \"vehicle\", \"other_type\": \"vehicle\", \"event_label\": \"following_too_close\", \"key_numbers\": {\"min_distance_m\": 7.59, \"headway_s\": 0.3639543962335894, \"ttc_s\": null}, \"summary\": \"A vehicle was following another vehicle too closely with a headway of 0.36 seconds.\", \"confidence\": 0.9, \"risk_factors\": [\"low_headway\"], \"raw_features\": {\"min_dist_m\": 7.58635112040457, \"gap_m\": 0.9337969463965572, \"aligned_frac\": 1.0, \"oncoming_frac\": 0.0, \"ahead_frac\": 1.0, \"self_speed_mps\": 2.56569766998291, \"other_speed_mps\": 4.499375820159912, \"step_min\": 0}}\n",
            "{\"scene_id\": \"d170b412754e400\", \"self_type\": \"vehicle\", \"other_type\": \"vehicle\", \"event_label\": \"none\", \"key_numbers\": {\"min_distance_m\": 21.85, \"headway_s\": null, \"ttc_s\": null}, \"summary\": \"The ego vehicle and another vehicle maintained a safe distance of 21.85 meters, with the other vehicle behind and traveling faster.\", \"confidence\": 0.9, \"risk_factors\": [], \"raw_features\": {\"min_dist_m\": 21.85160783034019, \"gap_m\": -21.662569982701946, \"aligned_frac\": 1.0, \"oncoming_frac\": 0.0, \"ahead_frac\": 0.0, \"self_speed_mps\": 3.5200324058532715, \"other_speed_mps\": 7.595409393310547, \"step_min\": 10}}\n",
            "{\"scene_id\": \"d170b412754e400\", \"self_type\": \"vehicle\", \"other_type\": \"vehicle\", \"event_label\": \"none\", \"key_numbers\": {\"min_distance_m\": 4.03, \"headway_s\": null, \"ttc_s\": null}, \"summary\": \"The self vehicle and another vehicle maintained a minimum distance of 4.03 meters while driving in parallel, with no notable interaction.\", \"confidence\": 0.9, \"risk_factors\": [], \"raw_features\": {\"min_dist_m\": 4.033677652813727, \"gap_m\": -2.6674776039687402, \"aligned_frac\": 1.0, \"oncoming_frac\": 0.0, \"ahead_frac\": 0.0, \"self_speed_mps\": 3.925011396408081, \"other_speed_mps\": 4.023983001708984, \"step_min\": 6}}\n",
            "{\"scene_id\": \"26311f0319539c95\", \"self_type\": \"vehicle\", \"other_type\": \"vehicle\", \"event_label\": \"none\", \"key_numbers\": {\"min_distance_m\": 11.38, \"headway_s\": null, \"ttc_s\": null}, \"summary\": \"The self vehicle was stopped while another vehicle passed by at a minimum distance of 11.38 meters.\", \"confidence\": 0.9, \"raw_features\": {\"min_dist_m\": 11.384975044652856, \"gap_m\": -4.249442897598584, \"aligned_frac\": 0.36363636363636365, \"oncoming_frac\": 0.18181818181818182, \"ahead_frac\": 0.36363636363636365, \"self_speed_mps\": 0.000162314492627047, \"other_speed_mps\": 5.224609375, \"step_min\": 10}}\n",
            "{\"scene_id\": \"26311f0319539c95\", \"self_type\": \"vehicle\", \"other_type\": \"vehicle\", \"event_label\": \"none\", \"key_numbers\": {\"min_distance_m\": 8.09, \"headway_s\": null, \"ttc_s\": null}, \"summary\": \"The self vehicle was stationary while another vehicle passed at a minimum distance of 8.09 meters.\", \"confidence\": 0.9, \"risk_factors\": [], \"raw_features\": {\"min_dist_m\": 8.08731001110465, \"gap_m\": -6.97402043673638, \"aligned_frac\": 0.36363636363636365, \"oncoming_frac\": 0.18181818181818182, \"ahead_frac\": 0.6363636363636364, \"self_speed_mps\": 0.0004464367520995438, \"other_speed_mps\": 9.755879402160645, \"step_min\": 0}}\n",
            "{\"scene_id\": \"4b75b1eff370fddc\", \"self_type\": \"vehicle\", \"other_type\": \"vehicle\", \"event_label\": \"none\", \"key_numbers\": {\"min_distance_m\": 24.48, \"headway_s\": 9.20414925389283, \"ttc_s\": null}, \"summary\": \"The self vehicle maintained a safe distance and headway from another vehicle ahead, with no notable interaction.\", \"confidence\": 1.0, \"risk_factors\": [], \"raw_features\": {\"min_dist_m\": 24.480839462480347, \"gap_m\": 20.78316776134886, \"aligned_frac\": 0.0, \"oncoming_frac\": 0.09090909090909091, \"ahead_frac\": 1.0, \"self_speed_mps\": 2.258021593093872, \"other_speed_mps\": 0.09765625, \"step_min\": 10}}\n",
            "{\"scene_id\": \"4b75b1eff370fddc\", \"self_type\": \"vehicle\", \"other_type\": \"pedestrian\", \"event_label\": \"ped_or_cyclist_nearby\", \"key_numbers\": {\"min_distance_m\": 14.11, \"headway_s\": 9.419094839150905, \"ttc_s\": null}, \"summary\": \"A vehicle maintained a safe distance from a pedestrian ahead, with a minimum distance of 14.11 meters and a headway of 9.42 seconds.\", \"confidence\": 0.9, \"raw_features\": {\"min_dist_m\": 14.111631483361384, \"gap_m\": 11.827194637379163, \"aligned_frac\": 1.0, \"oncoming_frac\": 0.0, \"ahead_frac\": 1.0, \"self_speed_mps\": 1.2556614875793457, \"other_speed_mps\": 1.7183077335357666, \"step_min\": 0}}\n",
            "{\"scene_id\": \"5bd1b366682e80ef\", \"self_type\": \"vehicle\", \"other_type\": \"vehicle\", \"event_label\": \"none\", \"key_numbers\": {\"min_distance_m\": 32.01, \"headway_s\": 194.00446927220523, \"ttc_s\": 320.0882637963757}, \"summary\": \"Two vehicles had a distant and very slow interaction, with a minimum distance of 32.01 meters and negligible speeds.\", \"confidence\": 0.9, \"risk_factors\": [], \"raw_features\": {\"min_dist_m\": 32.008826379637576, \"gap_m\": 19.400446927220525, \"aligned_frac\": 0.2727272727272727, \"oncoming_frac\": 0.6363636363636364, \"ahead_frac\": 0.45454545454545453, \"self_speed_mps\": 0.0001876310707302764, \"other_speed_mps\": 0.09765625, \"step_min\": 10}}\n",
            "{\"scene_id\": \"5bd1b366682e80ef\", \"self_type\": \"vehicle\", \"other_type\": \"vehicle\", \"event_label\": \"none\", \"key_numbers\": {\"min_distance_m\": 26.16, \"headway_s\": null, \"ttc_s\": null}, \"summary\": \"The self vehicle was stationary while another vehicle passed at a safe distance.\", \"confidence\": 1.0, \"raw_features\": {\"min_dist_m\": 26.16440470651961, \"gap_m\": -18.366522697314377, \"aligned_frac\": 0.36363636363636365, \"oncoming_frac\": 0.36363636363636365, \"ahead_frac\": 0.2727272727272727, \"self_speed_mps\": 0.0001876310707302764, \"other_speed_mps\": 9.564516067504883, \"step_min\": 10}}\n",
            "{\"scene_id\": \"d1575d9f044c9fb8\", \"self_type\": \"vehicle\", \"other_type\": \"vehicle\", \"event_label\": \"none\", \"key_numbers\": {\"min_distance_m\": 45.66, \"headway_s\": 317.8614682547243, \"ttc_s\": null}, \"summary\": \"The self vehicle was stationary while another vehicle passed at a distance of 45.66 meters with a large headway.\", \"confidence\": 0.9, \"risk_factors\": [], \"raw_features\": {\"min_dist_m\": 45.66397662844061, \"gap_m\": 31.786146825472432, \"aligned_frac\": 0.36363636363636365, \"oncoming_frac\": 0.09090909090909091, \"ahead_frac\": 0.36363636363636365, \"self_speed_mps\": 0.00016407326620537788, \"other_speed_mps\": 11.076545715332031, \"step_min\": 10}}\n",
            "{\"scene_id\": \"d1575d9f044c9fb8\", \"self_type\": \"vehicle\", \"other_type\": \"vehicle\", \"event_label\": \"none\", \"key_numbers\": {\"min_distance_m\": 22.15, \"headway_s\": 168.79526251664367, \"ttc_s\": null}, \"summary\": \"The self-vehicle was stationary while another vehicle passed at a safe distance of 22.15 meters.\", \"confidence\": 0.9, \"raw_features\": {\"min_dist_m\": 22.15047681055237, \"gap_m\": 16.87952625166437, \"aligned_frac\": 0.36363636363636365, \"oncoming_frac\": 0.09090909090909091, \"ahead_frac\": 0.2727272727272727, \"self_speed_mps\": 0.00016407326620537788, \"other_speed_mps\": 6.709357738494873, \"step_min\": 10}}\n",
            "{\"scene_id\": \"e854ba7d7cf8730b\", \"self_type\": \"vehicle\", \"other_type\": \"vehicle\", \"event_label\": \"following_too_close\", \"key_numbers\": {\"min_distance_m\": 9.43, \"headway_s\": 0.22, \"ttc_s\": null}, \"summary\": \"The self vehicle, traveling at 13.43 m/s, followed another vehicle, traveling at 2.66 m/s, with a dangerously low headway of 0.22 seconds, indicating a following too close event.\", \"confidence\": 0.95, \"risk_factors\": [\"insufficient following distance\", \"high speed differential\"], \"raw_features\": {\"min_dist_m\": 9.427692730931971, \"gap_m\": 2.9794748139816223, \"aligned_frac\": 0.0, \"oncoming_frac\": 0.0, \"ahead_frac\": 1.0, \"self_speed_mps\": 13.425119400024414, \"other_speed_mps\": 2.6588070392608643, \"step_min\": 10}}\n",
            "{\"scene_id\": \"8e828b4cbc432c03\", \"other_id\": 457, \"status\": \"skipped\", \"finish_reason\": 2, \"prompt_feedback\": \"\"}\n",
            "{\"scene_id\": \"8e828b4cbc432c03\", \"self_type\": \"vehicle\", \"other_type\": \"vehicle\", \"event_label\": \"none\", \"key_numbers\": {\"min_distance_m\": 14.41, \"headway_s\": null, \"ttc_s\": null}, \"summary\": \"The self vehicle maintained a safe distance from another vehicle, which was behind and traveling at a slower speed.\", \"confidence\": 0.9, \"raw_features\": {\"min_dist_m\": 14.409623129732472, \"gap_m\": -12.240461996138306, \"aligned_frac\": 1.0, \"oncoming_frac\": 0.0, \"ahead_frac\": 0.0, \"self_speed_mps\": 19.69537925720215, \"other_speed_mps\": 17.207033157348633, \"step_min\": 0}}\n",
            "{\"scene_id\": \"79ddf3f28a66e7a5\", \"self_type\": \"vehicle\", \"other_type\": \"vehicle\", \"event_label\": \"oncoming_interaction\", \"key_numbers\": {\"min_distance_m\": 54.23, \"headway_s\": 13.74958559359792, \"ttc_s\": 3.3335680850877667}, \"summary\": \"The self vehicle had an oncoming interaction with another vehicle, maintaining a minimum distance of 54.23 meters and a time to collision of 3.33 seconds.\", \"confidence\": 0.9, \"raw_features\": {\"min_dist_m\": 54.23219878859417, \"gap_m\": 53.33470737261771, \"aligned_frac\": 0.0, \"oncoming_frac\": 1.0, \"ahead_frac\": 1.0, \"self_speed_mps\": 3.879004716873169, \"other_speed_mps\": 12.389509201049805, \"step_min\": 10}}\n",
            "{\"scene_id\": \"59306814f54acdc8\", \"self_type\": \"vehicle\", \"other_type\": \"vehicle\", \"event_label\": \"none\", \"key_numbers\": {\"min_distance_m\": 34.1, \"headway_s\": 2.0204825058998286, \"ttc_s\": null}, \"summary\": \"The self vehicle followed another vehicle at a safe distance and headway.\", \"confidence\": 0.9, \"risk_factors\": [], \"raw_features\": {\"min_dist_m\": 34.1024020551566, \"gap_m\": 34.10239793630743, \"aligned_frac\": 1.0, \"oncoming_frac\": 0.0, \"ahead_frac\": 1.0, \"self_speed_mps\": 16.87834358215332, \"other_speed_mps\": 12.292181968688965, \"step_min\": 10}}\n",
            "{\"scene_id\": \"59306814f54acdc8\", \"self_type\": \"vehicle\", \"other_type\": \"vehicle\", \"event_label\": \"none\", \"key_numbers\": {\"min_distance_m\": 36.96, \"headway_s\": 2.0994858166255557, \"ttc_s\": null}, \"summary\": \"The self vehicle followed another vehicle at a safe distance and headway.\", \"confidence\": 0.9, \"raw_features\": {\"min_dist_m\": 36.9626786993646, \"gap_m\": 35.43584295886387, \"aligned_frac\": 0.0, \"oncoming_frac\": 0.0, \"ahead_frac\": 1.0, \"self_speed_mps\": 16.87834358215332, \"other_speed_mps\": 0.6387532353401184, \"step_min\": 10}}\n",
            "{\"scene_id\": \"ff6686b0e98d66ae\", \"other_id\": 673, \"status\": \"skipped_parse_error\"}\n",
            "{\"scene_id\": \"e2143e5166db2611\", \"self_type\": \"vehicle\", \"other_type\": \"vehicle\", \"event_label\": \"none\", \"key_numbers\": {\"min_distance_m\": 45.64, \"headway_s\": 3.65, \"ttc_s\": null}, \"summary\": \"The self vehicle, traveling at 12.42 m/s, maintained a safe distance of 45.64 meters and a headway of 3.65 seconds from another vehicle moving very slowly.\", \"confidence\": 0.9, \"risk_factors\": [], \"raw_features\": {\"min_dist_m\": 45.64446023356863, \"gap_m\": 45.388789795840374, \"aligned_frac\": 0.6363636363636364, \"oncoming_frac\": 0.18181818181818182, \"ahead_frac\": 1.0, \"self_speed_mps\": 12.422796249389648, \"other_speed_mps\": 0.14122748374938965, \"step_min\": 10}}\n",
            "{\"scene_id\": \"e2143e5166db2611\", \"self_type\": \"vehicle\", \"other_type\": \"vehicle\", \"event_label\": \"none\", \"key_numbers\": {\"min_distance_m\": 36.95, \"headway_s\": 2.9461159538514243, \"ttc_s\": null}, \"summary\": \"The self vehicle followed another vehicle at a safe distance of 36.95 meters with a headway of 2.95 seconds.\", \"confidence\": 0.95, \"raw_features\": {\"min_dist_m\": 36.94881833891229, \"gap_m\": 36.59899822177248, \"aligned_frac\": 1.0, \"oncoming_frac\": 0.0, \"ahead_frac\": 1.0, \"self_speed_mps\": 12.422796249389648, \"other_speed_mps\": 1.6001793146133423, \"step_min\": 10}}\n",
            "{\"scene_id\": \"b23421d3c4999871\", \"self_type\": \"vehicle\", \"other_type\": \"vehicle\", \"event_label\": \"none\", \"key_numbers\": {\"min_distance_m\": 7.4, \"headway_s\": null, \"ttc_s\": null}, \"summary\": \"The self vehicle and another vehicle had a minor interaction with a minimum distance of 7.40 meters, both moving at very low speeds.\", \"confidence\": 0.9, \"risk_factors\": [], \"raw_features\": {\"min_dist_m\": 7.403222311279766, \"gap_m\": -5.867570265381593, \"aligned_frac\": 0.8181818181818182, \"oncoming_frac\": 0.18181818181818182, \"ahead_frac\": 0.18181818181818182, \"self_speed_mps\": 0.04145693778991699, \"other_speed_mps\": 0.2144090086221695, \"step_min\": 5}}\n",
            "{\"scene_id\": \"b23421d3c4999871\", \"self_type\": \"vehicle\", \"other_type\": \"cyclist\", \"event_label\": \"ped_or_cyclist_nearby\", \"key_numbers\": {\"min_distance_m\": 9.12, \"headway_s\": 0.08566044920579799, \"ttc_s\": null}, \"summary\": \"A vehicle interacted with a cyclist, maintaining a minimum distance of 9.12 meters.\", \"confidence\": 0.95, \"raw_features\": {\"min_dist_m\": 9.122336069206764, \"gap_m\": 0.02324556833920166, \"aligned_frac\": 0.36363636363636365, \"oncoming_frac\": 0.45454545454545453, \"ahead_frac\": 0.6363636363636364, \"self_speed_mps\": 0.27136874198913574, \"other_speed_mps\": 0.4596417248249054, \"step_min\": 10}}\n",
            "{\"scene_id\": \"bf699db0f050e202\", \"other_id\": 18, \"status\": \"skipped_parse_error\"}\n",
            "{\"scene_id\": \"800215bf9aa9530a\", \"self_type\": \"vehicle\", \"other_type\": \"vehicle\", \"event_label\": \"none\", \"key_numbers\": {\"min_distance_m\": 34.42, \"headway_s\": null, \"ttc_s\": null}, \"summary\": \"The self vehicle was stationary while another vehicle passed at a distance of 34.42 meters.\", \"confidence\": 0.9, \"raw_features\": {\"min_dist_m\": 34.42034458926208, \"gap_m\": -32.102083971214256, \"aligned_frac\": 0.2727272727272727, \"oncoming_frac\": 0.2727272727272727, \"ahead_frac\": 0.5454545454545454, \"self_speed_mps\": 0.0005401564412750304, \"other_speed_mps\": 12.441027641296387, \"step_min\": 10}}\n",
            "{\"scene_id\": \"800215bf9aa9530a\", \"self_type\": \"vehicle\", \"other_type\": \"vehicle\", \"event_label\": \"none\", \"key_numbers\": {\"min_distance_m\": 37.39, \"headway_s\": 373.87678475558135, \"ttc_s\": null}, \"summary\": \"The self vehicle was stationary while another vehicle passed at a safe distance of 37.39 meters.\", \"confidence\": 0.9, \"risk_factors\": [], \"raw_features\": {\"min_dist_m\": 37.38844962194237, \"gap_m\": 37.38767847555814, \"aligned_frac\": 0.2727272727272727, \"oncoming_frac\": 0.2727272727272727, \"ahead_frac\": 0.6363636363636364, \"self_speed_mps\": 0.0005401564412750304, \"other_speed_mps\": 10.684597969055176, \"step_min\": 10}}\n",
            "{\"scene_id\": \"997e206eae5a6deb\", \"self_type\": \"vehicle\", \"other_type\": \"vehicle\", \"event_label\": \"none\", \"key_numbers\": {\"min_distance_m\": 18.44, \"headway_s\": 5.623306979177932, \"ttc_s\": null}, \"summary\": \"The self vehicle is following another vehicle at a safe distance of 18.44 meters with a headway of 5.62 seconds.\", \"confidence\": 1.0, \"raw_features\": {\"min_dist_m\": 18.435858209298676, \"gap_m\": 18.343396766313454, \"aligned_frac\": 1.0, \"oncoming_frac\": 0.0, \"ahead_frac\": 1.0, \"self_speed_mps\": 3.2620301246643066, \"other_speed_mps\": 3.7085413932800293, \"step_min\": 0}}\n",
            "{\"scene_id\": \"997e206eae5a6deb\", \"self_type\": \"vehicle\", \"other_type\": \"vehicle\", \"event_label\": \"none\", \"key_numbers\": {\"min_distance_m\": 52.03, \"headway_s\": 13.21730616729715, \"ttc_s\": null}, \"summary\": \"The self vehicle followed another vehicle at a safe distance and headway.\", \"confidence\": 1.0, \"raw_features\": {\"min_dist_m\": 52.03040779695128, \"gap_m\": 50.89539426486576, \"aligned_frac\": 0.2222222222222222, \"oncoming_frac\": 0.0, \"ahead_frac\": 1.0, \"self_speed_mps\": 3.850663185119629, \"other_speed_mps\": 4.7410407066345215, \"step_min\": 8}}\n",
            "{\"scene_id\": \"ec1e48ca72e70a4d\", \"self_type\": \"vehicle\", \"other_type\": \"vehicle\", \"event_label\": \"none\", \"key_numbers\": {\"min_distance_m\": 22.56, \"headway_s\": 225.5914119732382, \"ttc_s\": null}, \"summary\": \"Two vehicles were observed at a significant distance from each other, both moving at very low speeds.\", \"confidence\": 0.9, \"risk_factors\": [], \"raw_features\": {\"min_dist_m\": 22.56212865043071, \"gap_m\": 22.55914119732382, \"aligned_frac\": 0.36363636363636365, \"oncoming_frac\": 0.36363636363636365, \"ahead_frac\": 1.0, \"self_speed_mps\": 0.0357510969042778, \"other_speed_mps\": 0.0244140625, \"step_min\": 10}}\n",
            "{\"scene_id\": \"ec1e48ca72e70a4d\", \"self_type\": \"vehicle\", \"other_type\": \"vehicle\", \"event_label\": \"none\", \"key_numbers\": {\"min_distance_m\": 17.96, \"headway_s\": 177.76374327029714, \"ttc_s\": 179.56809222790756}, \"summary\": \"The self vehicle and other vehicle maintained a significant distance with very low speeds, indicating no notable interaction.\", \"confidence\": 0.9, \"risk_factors\": [], \"raw_features\": {\"min_dist_m\": 17.956809222790756, \"gap_m\": 17.776374327029714, \"aligned_frac\": 0.2727272727272727, \"oncoming_frac\": 0.6363636363636364, \"ahead_frac\": 1.0, \"self_speed_mps\": 0.0357510969042778, \"other_speed_mps\": 0.03662109375, \"step_min\": 10}}\n",
            "{\"scene_id\": \"2f3ba43f3dedd41d\", \"self_type\": \"vehicle\", \"other_type\": \"vehicle\", \"event_label\": \"none\", \"key_numbers\": {\"min_distance_m\": 5.48, \"headway_s\": null, \"ttc_s\": null}, \"summary\": \"The self vehicle and another vehicle maintained a safe distance, with the other vehicle trailing behind at a slightly slower speed.\", \"confidence\": 1.0, \"risk_factors\": [], \"raw_features\": {\"min_dist_m\": 5.479987625678912, \"gap_m\": -4.655251014987887, \"aligned_frac\": 1.0, \"oncoming_frac\": 0.0, \"ahead_frac\": 0.0, \"self_speed_mps\": 1.4827375411987305, \"other_speed_mps\": 1.1696043014526367, \"step_min\": 0}}\n",
            "{\"scene_id\": \"2f3ba43f3dedd41d\", \"self_type\": \"vehicle\", \"other_type\": \"vehicle\", \"event_label\": \"none\", \"key_numbers\": {\"min_distance_m\": 9.69, \"headway_s\": null, \"ttc_s\": null}, \"summary\": \"The self vehicle and another vehicle maintained a safe distance, with the other vehicle behind.\", \"confidence\": 1.0, \"raw_features\": {\"min_dist_m\": 9.694395613676408, \"gap_m\": -9.689420780991034, \"aligned_frac\": 1.0, \"oncoming_frac\": 0.0, \"ahead_frac\": 0.0, \"self_speed_mps\": 1.4827375411987305, \"other_speed_mps\": 0.2783631384372711, \"step_min\": 0}}\n",
            "{\"scene_id\": \"d67dc294b8303d0b\", \"self_type\": \"vehicle\", \"other_type\": \"vehicle\", \"event_label\": \"none\", \"key_numbers\": {\"min_distance_m\": 37.63, \"headway_s\": 13.22575395900871, \"ttc_s\": 12.607707910453641}, \"summary\": \"The self vehicle maintained a safe distance from another vehicle, with a minimum distance of 37.63 meters and a headway of over 13 seconds, indicating no notable interaction.\", \"confidence\": 0.9, \"raw_features\": {\"min_dist_m\": 37.631064753923056, \"gap_m\": 37.57969392241378, \"aligned_frac\": 0.2727272727272727, \"oncoming_frac\": 0.5454545454545454, \"ahead_frac\": 1.0, \"self_speed_mps\": 2.841402769088745, \"other_speed_mps\": 0.14336377382278442, \"step_min\": 10}}\n",
            "{\"scene_id\": \"d67dc294b8303d0b\", \"self_type\": \"vehicle\", \"other_type\": \"vehicle\", \"event_label\": \"none\", \"key_numbers\": {\"min_distance_m\": 16.08, \"headway_s\": 6.407542374079781, \"ttc_s\": null}, \"summary\": \"The self vehicle followed another vehicle at a safe distance and headway.\", \"confidence\": 0.9, \"risk_factors\": [], \"raw_features\": {\"min_dist_m\": 16.07922913807413, \"gap_m\": 16.058302086847284, \"aligned_frac\": 1.0, \"oncoming_frac\": 0.0, \"ahead_frac\": 1.0, \"self_speed_mps\": 2.5061562061309814, \"other_speed_mps\": 3.3117012977600098, \"step_min\": 0}}\n",
            "{\"scene_id\": \"e846cb425a0809cd\", \"self_type\": \"vehicle\", \"other_type\": \"vehicle\", \"event_label\": \"none\", \"key_numbers\": {\"min_distance_m\": 15.72, \"headway_s\": null, \"ttc_s\": null}, \"summary\": \"Two vehicles were nearly stationary, maintaining a minimum distance of 15.72 meters.\", \"confidence\": 1.0, \"risk_factors\": [], \"raw_features\": {\"min_dist_m\": 15.724785163758202, \"gap_m\": -13.710386943082472, \"aligned_frac\": 0.36363636363636365, \"oncoming_frac\": 0.45454545454545453, \"ahead_frac\": 0.36363636363636365, \"self_speed_mps\": 0.001085913274437189, \"other_speed_mps\": 0.05859375, \"step_min\": 1}}\n",
            "{\"scene_id\": \"e846cb425a0809cd\", \"self_type\": \"vehicle\", \"other_type\": \"pedestrian\", \"event_label\": \"none\", \"key_numbers\": {\"min_distance_m\": 23.67, \"headway_s\": null, \"ttc_s\": null}, \"summary\": \"The vehicle was stationary while a pedestrian moved slowly at a minimum distance of 23.67 meters.\", \"confidence\": 1.0, \"risk_factors\": [], \"raw_features\": {\"min_dist_m\": 23.66878083909259, \"gap_m\": -23.40762646525156, \"aligned_frac\": 0.45454545454545453, \"oncoming_frac\": 0.36363636363636365, \"ahead_frac\": 0.36363636363636365, \"self_speed_mps\": 0.0002656429132912308, \"other_speed_mps\": 0.14680953323841095, \"step_min\": 4}}\n",
            "{\"scene_id\": \"ce5778fc78ffcf7\", \"self_type\": \"vehicle\", \"other_type\": \"vehicle\", \"event_label\": \"none\", \"key_numbers\": {\"min_distance_m\": 6.24, \"headway_s\": null, \"ttc_s\": null}, \"summary\": \"The self vehicle and another vehicle maintained a safe distance, with the other vehicle behind and moving slowly.\", \"confidence\": 1.0, \"risk_factors\": [], \"raw_features\": {\"min_dist_m\": 6.241382685449828, \"gap_m\": -5.153746823878855, \"aligned_frac\": 0.7272727272727273, \"oncoming_frac\": 0.09090909090909091, \"ahead_frac\": 0.0, \"self_speed_mps\": 1.50472092628479, \"other_speed_mps\": 0.08802615106105804, \"step_min\": 0}}\n",
            "{\"scene_id\": \"ce5778fc78ffcf7\", \"self_type\": \"vehicle\", \"other_type\": \"vehicle\", \"event_label\": \"none\", \"key_numbers\": {\"min_distance_m\": 38.63, \"headway_s\": null, \"ttc_s\": null}, \"summary\": \"Two vehicles interacted with a minimum distance of 38.63 meters, and no notable event occurred.\", \"confidence\": 1.0, \"risk_factors\": [], \"raw_features\": {\"min_dist_m\": 38.63422350336561, \"gap_m\": -38.45953605645408, \"aligned_frac\": 1.0, \"oncoming_frac\": 0.0, \"ahead_frac\": 0.0, \"self_speed_mps\": 0.8309274911880493, \"other_speed_mps\": 7.944486141204834, \"step_min\": 10}}\n"
          ]
        }
      ]
    },
    {
      "cell_type": "markdown",
      "source": [
        "### Interesting Outputs/Cases\n",
        "\n",
        "The model surfaces mostly benign interactions, but some clearly risky or unusual.  \n",
        "\n",
        "- **Clear risk spike:** `following_too_close` with **headway ≈ 0.22s** at higher self-driving car speed — a good example of the kind of risk we want to surface:  \n",
        "  > *“The self vehicle, traveling at 13.43 m/s, followed another vehicle, traveling at 2.66 m/s, with a dangerously low headway of 0.22 seconds, indicating a following too close event.”*  \n",
        "  **Min dist:** 9.43 m · **Headway:** 0.22 s · **Ahead frac:** 1.00  \n",
        "\n",
        "- **VRU (Vulnerable Road User) edge case:** pedestrian crossing paths at **min_dist ≈ 3.05m** and **TTC ≈ 1.79s** — low margin, high review priority:  \n",
        "  > *“A stationary vehicle had a close interaction with a pedestrian who was moving and potentially crossing its path, with a minimum distance of 3.05 meters and a time-to-collision of 1.79 seconds.”*  \n",
        "  **Oncoming frac:** 0.55  \n",
        "\n",
        "- **Oncoming but distant:** several `oncoming_interaction` summaries report **TTC ~3–5s** yet **min_dist > 15–50m**:  \n",
        "  - Scene *79ddf3…*:  \n",
        "    > *“The self vehicle had an oncoming interaction with another vehicle, maintaining a minimum distance of 54.23 meters and a time to collision of 3.33 seconds.”*  \n",
        "  - Scene *edda5a…*:  \n",
        "    > *“The self vehicle and another oncoming vehicle had a safe interaction with a minimum distance of 15.98 meters, a headway of 5.59 seconds, and a time-to-collision of 4.99 seconds.”*  \n",
        "\n",
        "- **Cyclist nearby:** scene *b23421d3…* highlights VRU proximity worth flagging:  \n",
        "  > *“A vehicle interacted with a cyclist, maintaining a minimum distance of 9.12 meters.”*  \n",
        "  **Headway:** 0.086 s · **Oncoming frac:** 0.45  \n",
        "\n",
        "- **Stationary artifacts to watch:** some scenes show **headways of 100–300s** with near-zero speeds (e.g., *d1575d…*, *800215…*), which are likely parked/creeping cases that need special handling rather than being treated as risks.\n",
        "\n",
        "---\n",
        "\n",
        "These examples show why structured AI outputs could be helpful. They surface interesting scenarios and flag edge cases that engineers might miss.\n"
      ],
      "metadata": {
        "id": "hVBikc0hwfY4"
      }
    },
    {
      "cell_type": "markdown",
      "source": [
        "### Risk tagging  \n",
        "We reload the AI outputs and apply simple heuristic gates (distance < 10 m, headway < 1.5 s, TTC < 2 s, or risky labels like *following_too_close* / *crossing_paths*).  \n",
        "\n",
        "This produces a quick binary `_risk` flag for each event, letting us separate ordinary cases from potential safety-critical ones."
      ],
      "metadata": {
        "id": "atpcwz5S0fRw"
      }
    },
    {
      "cell_type": "code",
      "source": [
        "INP = \"/content/outputs.txt\"  # from Cell 1\n",
        "events = []\n",
        "with open(INP) as fh:\n",
        "    for line in fh:\n",
        "        try:\n",
        "            obj = json.loads(line)\n",
        "        except Exception:\n",
        "            continue\n",
        "        if \"event_label\" not in obj:  # skip status lines\n",
        "            continue\n",
        "        # Normalize numbers\n",
        "        kn = obj.get(\"key_numbers\", {}) or {}\n",
        "        md  = kn.get(\"min_distance_m\")\n",
        "        hw  = kn.get(\"headway_s\")\n",
        "        ttc = kn.get(\"ttc_s\")\n",
        "        # Simple risk gates\n",
        "        risky = (\n",
        "            (md is not None and md < 10.0) or\n",
        "            (hw is not None and hw < 1.5) or\n",
        "            (ttc is not None and ttc < 2.0) or\n",
        "            (obj.get(\"event_label\") in {\"following_too_close\",\"crossing_paths\"})\n",
        "        )\n",
        "        obj[\"_risk\"] = bool(risky)\n",
        "        events.append(obj)\n",
        "\n",
        "len_all = len(events)\n",
        "len_risky = sum(e[\"_risk\"] for e in events)\n",
        "print(f\"loaded={len_all} | risky={len_risky}\")"
      ],
      "metadata": {
        "colab": {
          "base_uri": "https://localhost:8080/",
          "height": 0
        },
        "id": "jfdLp2zS_5T_",
        "outputId": "49b8ee08-89ba-432d-a22b-6066af1c1a1c"
      },
      "execution_count": 11,
      "outputs": [
        {
          "output_type": "stream",
          "name": "stdout",
          "text": [
            "loaded=60 | risky=11\n"
          ]
        }
      ]
    },
    {
      "cell_type": "markdown",
      "source": [
        "### Preparing text for clustering  \n",
        "We assemble short text snippets to represent each event.  \n",
        "\n",
        "This gives us a clean list of `(index, text)` pairs that can be embedded and clustered in the next step.\n"
      ],
      "metadata": {
        "id": "lVThemzz0oyF"
      }
    },
    {
      "cell_type": "code",
      "source": [
        "LLM_PATH = \"outputs.txt\"\n",
        "RAW_PATH = \"/content/scenario_events.jsonl\"\n",
        "\n",
        "events_raw = [json.loads(x) for x in open(RAW_PATH)]\n",
        "\n",
        "def texts_and_indices():\n",
        "    if os.path.exists(LLM_PATH):\n",
        "\n",
        "        out = []\n",
        "        for i, line in enumerate(open(LLM_PATH)):\n",
        "            obj = json.loads(line)\n",
        "\n",
        "            if \"summary\" in obj:\n",
        "                label = obj.get(\"event_label\", \"\")\n",
        "                out.append((i, f\"{obj['summary']} [label={label}]\"))\n",
        "        return out\n",
        "    else:\n",
        "\n",
        "        out = []\n",
        "        for i, e in enumerate(events_raw):\n",
        "            txt = (f\"{e['self_type']} vs {e['other_type']} | \"\n",
        "                   f\"min_dist={e['min_dist_m']:.1f}m, gap={e['gap_m']:.1f}m | \"\n",
        "                   f\"ahead={e['ahead_frac']:.2f}, oncoming={e['oncoming_frac']:.2f}, aligned={e['aligned_frac']:.2f}\")\n",
        "            out.append((i, txt))\n",
        "        return out\n",
        "\n",
        "pairs = texts_and_indices()\n",
        "idxs  = [p[0] for p in pairs]\n",
        "texts = [p[1] for p in pairs]\n",
        "print(\"Texts ready:\", len(texts), \"| sample:\", texts[:2])\n"
      ],
      "metadata": {
        "colab": {
          "base_uri": "https://localhost:8080/",
          "height": 0
        },
        "id": "o8FN6ztnjOjt",
        "outputId": "2f83afb6-0230-4377-b3c4-0b0d2730bcca"
      },
      "execution_count": 12,
      "outputs": [
        {
          "output_type": "stream",
          "name": "stdout",
          "text": [
            "Texts ready: 60 | sample: ['The self vehicle followed another vehicle at a minimum distance of 24.93 meters with a headway of 5.30 seconds. [label=none]', 'The self vehicle followed another vehicle at a safe distance and headway. [label=none]']\n"
          ]
        }
      ]
    },
    {
      "cell_type": "markdown",
      "source": [
        "### Embedding → Clustering → Taxonomy\n",
        "We turn each event summary into a vector, cluster them with a small k-means, and pick a representative example per cluster.\n",
        "\n",
        "This produces a lightweight taxonomy (`taxonomy.jsonl`) that names each cluster."
      ],
      "metadata": {
        "id": "iB3jd81X04Hm"
      }
    },
    {
      "cell_type": "code",
      "source": [
        "\n",
        "model = SentenceTransformer(\"all-MiniLM-L6-v2\")  # 384-dim, fast\n",
        "X = model.encode(texts, normalize_embeddings=True, convert_to_numpy=True, batch_size=64, show_progress_bar=True)\n",
        "print(\"Embedding shape:\", X.shape)\n",
        "\n",
        "# Choose k and cluster\n",
        "n = len(texts)\n",
        "if n < 2:\n",
        "    raise ValueError(\"Need at least 2 items to cluster.\")\n",
        "k = min(6, max(2, n))  # small, readable taxonomy\n",
        "km = KMeans(n_clusters=k, n_init=\"auto\", random_state=0)\n",
        "labels = km.fit_predict(X)\n",
        "\n",
        "# Pick a representative item per cluster (closest to centroid)\n",
        "rep_idx, _ = pairwise_distances_argmin_min(km.cluster_centers_, X)\n",
        "rep_idx = rep_idx.tolist()\n",
        "\n",
        "# Build a simple taxonomy object\n",
        "OUT_TAX = \"/content/taxonomy.jsonl\"\n",
        "taxonomy = []\n",
        "by_cluster = collections.defaultdict(list)\n",
        "for i, lbl in enumerate(labels):\n",
        "    by_cluster[int(lbl)].append(i)\n",
        "\n",
        "for c in range(k):\n",
        "    members = by_cluster[c]\n",
        "    rep_i   = rep_idx[c]\n",
        "    rep_txt = texts[rep_i]\n",
        "\n",
        "    label_hint = \"\"\n",
        "    if \"[label=\" in rep_txt:\n",
        "        try:\n",
        "            label_hint = rep_txt.split(\"[label=\",1)[1].split(\"]\",1)[0]\n",
        "        except Exception:\n",
        "            label_hint = \"\"\n",
        "    cluster_name = label_hint or f\"cluster_{c}\"\n",
        "\n",
        "    entry = {\n",
        "        \"cluster_id\": int(c),\n",
        "        \"name\": cluster_name,\n",
        "        \"size\": len(members),\n",
        "        \"representative_text\": rep_txt,\n",
        "        \"member_indices\": [int(idxs[i]) for i in members],  # indices back into your source events\n",
        "    }\n",
        "    taxonomy.append(entry)\n",
        "\n",
        "with open(OUT_TAX, \"w\") as f:\n",
        "    for row in taxonomy:\n",
        "        f.write(json.dumps(row) + \"\\n\")\n",
        "\n",
        "print(f\"Clusters: {k}  |  Saved taxonomy → {OUT_TAX}\")\n",
        "for row in taxonomy:\n",
        "    print(f\"[{row['cluster_id']}] {row['name']}  (n={row['size']})\")\n",
        "    print(\"   rep:\", row[\"representative_text\"][:140], \"…\")\n"
      ],
      "metadata": {
        "colab": {
          "base_uri": "https://localhost:8080/",
          "height": 768,
          "referenced_widgets": [
            "b16b5ad242a54bf08eb24fc13cbdb5cc",
            "1980b79fb6504159be46fdf0f26a2d63",
            "f0f2428789d04fbabec908f25b726da0",
            "57ceb53ec0ba4c4395d685b56f0dabb0",
            "81cb161dcba9412e9018387a16801a29",
            "918af80e34ae48f993855f19b01b95a6",
            "4707a4149f0f4b5299c28050b3833496",
            "64cf3d9591e3497fb955c203e4ecf2d1",
            "638ff39536314fa0b691442398579ea1",
            "055eb33737fb41c0ba21eeceb3b6cdc3",
            "1c72a5e0958a477894f94d33a394ec09",
            "d3c57db55ea44175a1f61eb67e10aafa",
            "8ad7cd33efd6419eab388671242daed6",
            "cf2c12bd325545c486b10110493c5b8e",
            "84210ebc02be42c09f703bac4429afd2",
            "493f6d6290b54c4fac3ee557e59c0afd",
            "825ad5f5c9f341079eaf6076f7161ac7",
            "28c309840afb4bf4b71e43ab54287a96",
            "be67deddf6fb42a59e71c34f7d1cb893",
            "3757887d26554c9ca1fe889ea6168e12",
            "e17acc1783074d2cbbfe52f43ead30ff",
            "88c56b83d7514c659f8c798486a50199",
            "0e6ee75892a949039323eda8b029dd75",
            "c8520bb08ced4925837de2799bbf55a6",
            "443d5cbe057b448ca151084aef27603b",
            "9483584fda8e4049ad65f03b855cd2a5",
            "2eaa16e48dd64457ab12a7cfd2860854",
            "0db6cc67f3da43d78e6c9201dae37062",
            "687af91cab934c4c91a969af5f669ffe",
            "9bee4fd64e2241e9acbdd7f20678f049",
            "1f8dc0782ecc427e8f34d8c28ae82bd8",
            "737cdfd6dcce4ac58eaccb0564528d58",
            "d645a07ed3e64d96babe1eb3e6ad2119",
            "0b19d2e5a06b40f387764e2979fd15be",
            "aa0e64930b304700a350a265ed47f0e8",
            "e7231248f883440fb8edd7b1c2716668",
            "c47947478b954b4a91a4327e0606effc",
            "25d0b663a7e94e4ba8d50a2fc31a1b37",
            "509de870e2c6420c971812c0883cf9b2",
            "8d02b5815422426e95fe30b88d3f5eb6",
            "4bacfad593bd49c189683e9b6577e8ff",
            "eb1c14a6d379496faed860ba567f02ce",
            "28078a8106694ce0afceada411b0252a",
            "390108c9baf94a79bce9dbfc3c923bc7",
            "d6bcbed6887045f69f411771a42d0de7",
            "94207a4d22654a4c825b3b22ed4118b9",
            "565fb699eb2e4ec0ab381e1775a91ab3",
            "8ca3cf15c8fa4f3a9e5a85fffd3975e0",
            "06d7c83278504f1d9c0a643336d49ea5",
            "e0fe42beb88041f0a65ec52e4f78e960",
            "4e97d4094c1c439b8700d2505e2b3790",
            "96773f67c8c1481eacb51238ca51e4c8",
            "a7ab297d13da42e18e3cd8f705702128",
            "98928e8f3ef34caf93376828ba52f196",
            "15c33299c0a34da9beca75bb20c5f96e",
            "641f7c6703d246028d877fe9de65b9bf",
            "f4648d134ce44265b11b9f79f1cb671f",
            "a644c7861b224e748280db63fd674f65",
            "bb7623013e9948d2a1421e830eb4113d",
            "e028d1a58e254ff6902726b2688ddf37",
            "8343c524f117468f88100fd83934402c",
            "38d8978f99ef4ab48271b417434da994",
            "47f1459497b14b0f9ea8836802ff8fdb",
            "cc6ac00a476d4c04869ebd565efa6a75",
            "f603e9785433441e90853dcff1985022",
            "aed9162cd49a4ad5a256aff73418b3fa",
            "50001458cc7e4578835af38028be735c",
            "6c93b3bfd0534fb284bf4e2cbcba0c08",
            "55faff6e58ee4cd7a0c5d715beaf1285",
            "50748c92bc4d4c4ca2c3c9fe2dcf6f68",
            "94701e9d9fb84367a312e49f212e15d1",
            "138e155f240344bca22ad4d201190953",
            "7431e1207f0346ad80beff49a3399f4d",
            "0dbbcdf9ede048e99e65e5b09f3db0d2",
            "82f26e83d1a54494a7e9711454b9403f",
            "06d1ecf6d3c74be380c0e2fb53c18e3c",
            "604dc3c094b0430fa9c8c892c36e9e9e",
            "4f86e9ccba2044bca3722afb35437ada",
            "fec2d79bba264958bbfffb8b0901cff1",
            "bc5b63e9792746a3a46d9764d5ae11c1",
            "50fced03a5924ce38fadd6e6cd743c9d",
            "71ab9bc28d5c4d069958280747e6cf50",
            "66cf20f1cc9843a1a1ee2ea89baf3395",
            "a8b70526a68b4d46b0fd60a8e58f6273",
            "7cbf611ab26441d89dc95bbccf17c0bf",
            "9f5ed119495b435bb3d83a7b3d73ed2f",
            "99fd519eb3d64b7c8852ec8a4a85c86f",
            "ea5c0d3a216a41b681e003f2e51b35f8",
            "632273895a77473d8724827f2b1430ee",
            "bcdf1cb129d44d14ac94d20503b39948",
            "be3315f61ab44db0bbd129652f888120",
            "9d5723f79868430aab5d6b67818c7f01",
            "b8c7eabec36244a59d195db100fd8ad9",
            "286135e15b234d088c12ecd0abf17aa7",
            "c29bc8cc8eea4bf9a65b94d8ea93400e",
            "1ad6614726c84efcbbc9f8d6343e2453",
            "96ea504eaa9d4924a622754d47dae529",
            "26e9ccf647e246d781fa3f92b048e364",
            "dae070b095f0447fa55dab9f749a07e3",
            "ed84814eee794e8bb869406fff0f01fe",
            "56c3122a415d4c1ab73e0e912c9fcbcc",
            "b98afa633cf641daa43989737ca043b9",
            "2ea58500302a48faac96cdf5547bf8bb",
            "931edb3f5e79423ba8a0398021d310f6",
            "a972fab31f2947b49f3eb5bebe534c14",
            "87fa7fe11f364df68320cb45a5cb6246",
            "729189a68e1f46bca55d6352054d5681",
            "0b883356e68049ad814da7bae163954a",
            "c7d96fcc4d234949ac248fdf0d6eadde",
            "ec9db3fc9a6147cfa33117f5d6139bb2",
            "40f1e861eb54477fadbae9c78d63a5dc",
            "4e1c878edcc74bce8dd0d039391d9bcd",
            "20043e328a474d06b2d58173d88a464c",
            "1012591503e54817b0026c164fa0d381",
            "79ba6b0a3f2b48089708ba77b6197690",
            "0bc39b604034402690328eaba13fb060",
            "7d9e329045764ba482b11799f192e112",
            "850f296092f74aed94ae5c35aab888d0",
            "e8232e9ec2e94a3ba8a5c5d6cffa3a4a",
            "3b5fada2ec4247d9aedf6c0da96be2e2",
            "30d01c41344b4d2ba90d73a90c868e3f",
            "98c7d54e51554cce902dc592537479e1",
            "0d5bdd8bdb6640c6a284b2af8fc120a9",
            "cec22c6895404c669cc2f9f3ab9c91e6",
            "9f5ebcc7887b4a95838e9701d1768056",
            "9bcdfbb1ee72409b8740aff5524b7f71",
            "f11cd603565549a98337bdcbcca18cc4",
            "cc10593439d543d0a6303cfca45830d2",
            "0b434c83122a46c88f6b5056b5d99f93",
            "d5aa89e0521a410b98ead3d2beab2020",
            "5df1a5db427648c2ad4d5ecd8f1a8990",
            "0c13d8dc81684678a900d0a5490a177d"
          ]
        },
        "id": "LbrC88Gthsa1",
        "outputId": "1e4e654b-3550-43f6-ee28-04cd1f45648e"
      },
      "execution_count": 13,
      "outputs": [
        {
          "output_type": "stream",
          "name": "stderr",
          "text": [
            "/usr/local/lib/python3.12/dist-packages/huggingface_hub/utils/_auth.py:94: UserWarning: \n",
            "The secret `HF_TOKEN` does not exist in your Colab secrets.\n",
            "To authenticate with the Hugging Face Hub, create a token in your settings tab (https://huggingface.co/settings/tokens), set it as secret in your Google Colab and restart your session.\n",
            "You will be able to reuse this secret in all of your notebooks.\n",
            "Please note that authentication is recommended but still optional to access public models or datasets.\n",
            "  warnings.warn(\n"
          ]
        },
        {
          "output_type": "display_data",
          "data": {
            "text/plain": [
              "modules.json:   0%|          | 0.00/349 [00:00<?, ?B/s]"
            ],
            "application/vnd.jupyter.widget-view+json": {
              "version_major": 2,
              "version_minor": 0,
              "model_id": "b16b5ad242a54bf08eb24fc13cbdb5cc"
            }
          },
          "metadata": {}
        },
        {
          "output_type": "display_data",
          "data": {
            "text/plain": [
              "config_sentence_transformers.json:   0%|          | 0.00/116 [00:00<?, ?B/s]"
            ],
            "application/vnd.jupyter.widget-view+json": {
              "version_major": 2,
              "version_minor": 0,
              "model_id": "d3c57db55ea44175a1f61eb67e10aafa"
            }
          },
          "metadata": {}
        },
        {
          "output_type": "display_data",
          "data": {
            "text/plain": [
              "README.md: 0.00B [00:00, ?B/s]"
            ],
            "application/vnd.jupyter.widget-view+json": {
              "version_major": 2,
              "version_minor": 0,
              "model_id": "0e6ee75892a949039323eda8b029dd75"
            }
          },
          "metadata": {}
        },
        {
          "output_type": "display_data",
          "data": {
            "text/plain": [
              "sentence_bert_config.json:   0%|          | 0.00/53.0 [00:00<?, ?B/s]"
            ],
            "application/vnd.jupyter.widget-view+json": {
              "version_major": 2,
              "version_minor": 0,
              "model_id": "0b19d2e5a06b40f387764e2979fd15be"
            }
          },
          "metadata": {}
        },
        {
          "output_type": "display_data",
          "data": {
            "text/plain": [
              "config.json:   0%|          | 0.00/612 [00:00<?, ?B/s]"
            ],
            "application/vnd.jupyter.widget-view+json": {
              "version_major": 2,
              "version_minor": 0,
              "model_id": "d6bcbed6887045f69f411771a42d0de7"
            }
          },
          "metadata": {}
        },
        {
          "output_type": "display_data",
          "data": {
            "text/plain": [
              "model.safetensors:   0%|          | 0.00/90.9M [00:00<?, ?B/s]"
            ],
            "application/vnd.jupyter.widget-view+json": {
              "version_major": 2,
              "version_minor": 0,
              "model_id": "641f7c6703d246028d877fe9de65b9bf"
            }
          },
          "metadata": {}
        },
        {
          "output_type": "display_data",
          "data": {
            "text/plain": [
              "tokenizer_config.json:   0%|          | 0.00/350 [00:00<?, ?B/s]"
            ],
            "application/vnd.jupyter.widget-view+json": {
              "version_major": 2,
              "version_minor": 0,
              "model_id": "50001458cc7e4578835af38028be735c"
            }
          },
          "metadata": {}
        },
        {
          "output_type": "display_data",
          "data": {
            "text/plain": [
              "vocab.txt: 0.00B [00:00, ?B/s]"
            ],
            "application/vnd.jupyter.widget-view+json": {
              "version_major": 2,
              "version_minor": 0,
              "model_id": "4f86e9ccba2044bca3722afb35437ada"
            }
          },
          "metadata": {}
        },
        {
          "output_type": "display_data",
          "data": {
            "text/plain": [
              "tokenizer.json: 0.00B [00:00, ?B/s]"
            ],
            "application/vnd.jupyter.widget-view+json": {
              "version_major": 2,
              "version_minor": 0,
              "model_id": "632273895a77473d8724827f2b1430ee"
            }
          },
          "metadata": {}
        },
        {
          "output_type": "display_data",
          "data": {
            "text/plain": [
              "special_tokens_map.json:   0%|          | 0.00/112 [00:00<?, ?B/s]"
            ],
            "application/vnd.jupyter.widget-view+json": {
              "version_major": 2,
              "version_minor": 0,
              "model_id": "ed84814eee794e8bb869406fff0f01fe"
            }
          },
          "metadata": {}
        },
        {
          "output_type": "display_data",
          "data": {
            "text/plain": [
              "config.json:   0%|          | 0.00/190 [00:00<?, ?B/s]"
            ],
            "application/vnd.jupyter.widget-view+json": {
              "version_major": 2,
              "version_minor": 0,
              "model_id": "40f1e861eb54477fadbae9c78d63a5dc"
            }
          },
          "metadata": {}
        },
        {
          "output_type": "display_data",
          "data": {
            "text/plain": [
              "Batches:   0%|          | 0/1 [00:00<?, ?it/s]"
            ],
            "application/vnd.jupyter.widget-view+json": {
              "version_major": 2,
              "version_minor": 0,
              "model_id": "98c7d54e51554cce902dc592537479e1"
            }
          },
          "metadata": {}
        },
        {
          "output_type": "stream",
          "name": "stdout",
          "text": [
            "Embedding shape: (60, 384)\n",
            "Clusters: 6  |  Saved taxonomy → /content/taxonomy.jsonl\n",
            "[0] none  (n=12)\n",
            "   rep: The self vehicle and another vehicle maintained a safe distance, with the other vehicle trailing behind at a slightly slower speed. [label=n …\n",
            "[1] none  (n=15)\n",
            "   rep: The self vehicle followed another vehicle at a safe distance and headway. [label=none] …\n",
            "[2] none  (n=13)\n",
            "   rep: The self vehicle was stationary while another vehicle passed at a minimum distance of 26.17 meters. [label=none] …\n",
            "[3] ped_or_cyclist_nearby  (n=7)\n",
            "   rep: A vehicle maintained a safe distance from a pedestrian ahead, with a minimum distance of 14.11 meters and a headway of 9.42 seconds. [label= …\n",
            "[4] oncoming_interaction  (n=7)\n",
            "   rep: The self vehicle had an oncoming interaction with another vehicle, maintaining a minimum distance of 54.23 meters and a time to collision of …\n",
            "[5] none  (n=6)\n",
            "   rep: The two vehicles maintained a safe distance from each other, with the ego vehicle moving faster than the other. [label=none] …\n"
          ]
        }
      ]
    },
    {
      "cell_type": "markdown",
      "source": [
        "### Cluster summaries (interpretable stats)\n",
        "For each cluster, we build stats: who the self-driving cars mostly interact with, typical and minimum gaps, and how often motion was oncoming, ahead, or aligned."
      ],
      "metadata": {
        "id": "Rx3t0Jjq1Uaf"
      }
    },
    {
      "cell_type": "code",
      "source": [
        "# Inputs from earlier steps\n",
        "TAX_PATH = \"/content/taxonomy.jsonl\"                     # from the clustering step\n",
        "RAW_PATH = \"/content/scenario_events.jsonl\"      # your event snapshots\n",
        "\n",
        "import json, collections, math\n",
        "\n",
        "# Load\n",
        "taxonomy = [json.loads(x) for x in open(TAX_PATH)]\n",
        "events   = [json.loads(x) for x in open(RAW_PATH)]\n",
        "\n",
        "def cluster_stats(entry):\n",
        "    idxs = entry[\"member_indices\"]\n",
        "    members = [events[i] for i in idxs]\n",
        "\n",
        "    n = len(members)\n",
        "    other_types = [m.get(\"other_type\",\"?\") for m in members]\n",
        "    type_counts = collections.Counter(other_types)\n",
        "    dom_other, dom_other_cnt = (type_counts.most_common(1)[0] if type_counts else (\"?\",0))\n",
        "\n",
        "    min_dists = [m.get(\"min_dist_m\", float(\"inf\")) for m in members]\n",
        "    oncoming  = [m.get(\"oncoming_frac\", 0.0) for m in members]\n",
        "    ahead     = [m.get(\"ahead_frac\", 0.0) for m in members]\n",
        "    aligned   = [m.get(\"aligned_frac\", 0.0) for m in members]\n",
        "\n",
        "    def avg(xs):\n",
        "        xs = [x for x in xs if x is not None and not math.isinf(x)]\n",
        "        return (sum(xs)/len(xs)) if xs else None\n",
        "\n",
        "    stats = {\n",
        "        \"n\": n,\n",
        "        \"dominant_other\": dom_other,\n",
        "        \"dominant_other_share\": round(dom_other_cnt/max(n,1), 2),\n",
        "        \"min_dist_mean\": round(avg(min_dists), 2) if avg(min_dists) is not None else None,\n",
        "        \"min_dist_min\": round(min(min_dists), 2) if min_dists else None,\n",
        "        \"oncoming_mean\": round(avg(oncoming), 2) if avg(oncoming) is not None else None,\n",
        "        \"ahead_mean\": round(avg(ahead), 2) if avg(ahead) is not None else None,\n",
        "        \"aligned_mean\": round(avg(aligned), 2) if avg(aligned) is not None else None,\n",
        "        \"pct_close_under_10m\": round(sum(d<10 for d in min_dists)/max(n,1), 2),\n",
        "    }\n",
        "    return stats\n",
        "\n",
        "cluster_summaries = []\n",
        "for t in taxonomy:\n",
        "    s = cluster_stats(t)\n",
        "    t[\"_stats\"] = s\n",
        "    cluster_summaries.append({\"cluster_id\": t[\"cluster_id\"], **s})\n",
        "\n",
        "print(\"Clusters summarized:\", len(cluster_summaries))\n",
        "for s in cluster_summaries:\n",
        "    print(f\"[{s['cluster_id']}] n={s['n']} | dom={s['dominant_other']}({s['dominant_other_share']}) \"\n",
        "          f\"| d_mean={s['min_dist_mean']}m (min {s['min_dist_min']}m) | oncoming={s['oncoming_mean']} \"\n",
        "          f\"| ahead={s['ahead_mean']} | aligned={s['aligned_mean']} | <10m={s['pct_close_under_10m']}\")\n"
      ],
      "metadata": {
        "colab": {
          "base_uri": "https://localhost:8080/",
          "height": 0
        },
        "id": "Wo48e2_IjVtA",
        "outputId": "41474d86-bf1b-4ac5-9aca-805bd24ad578"
      },
      "execution_count": 14,
      "outputs": [
        {
          "output_type": "stream",
          "name": "stdout",
          "text": [
            "Clusters summarized: 6\n",
            "[0] n=12 | dom=vehicle(1.0) | d_mean=16.88m (min 4.03m) | oncoming=0.11 | ahead=0.25 | aligned=0.77 | <10m=0.33\n",
            "[1] n=15 | dom=vehicle(1.0) | d_mean=25.91m (min 7.59m) | oncoming=0.03 | ahead=1.0 | aligned=0.54 | <10m=0.2\n",
            "[2] n=13 | dom=vehicle(0.92) | d_mean=22.36m (min 7.4m) | oncoming=0.21 | ahead=0.34 | aligned=0.48 | <10m=0.15\n",
            "[3] n=7 | dom=cyclist(0.43) | d_mean=22.06m (min 9.12m) | oncoming=0.12 | ahead=0.81 | aligned=0.58 | <10m=0.14\n",
            "[4] n=7 | dom=vehicle(0.71) | d_mean=28.58m (min 3.05m) | oncoming=0.65 | ahead=0.65 | aligned=0.34 | <10m=0.14\n",
            "[5] n=6 | dom=vehicle(1.0) | d_mean=23.8m (min 17.3m) | oncoming=0.21 | ahead=0.47 | aligned=0.7 | <10m=0.0\n"
          ]
        }
      ]
    },
    {
      "cell_type": "markdown",
      "source": [
        "### Naming clusters & assigning risk\n",
        "We turn each cluster’s summary stats into a human-readable name (e.g., *following_vehicle*, *oncoming_interaction_pedestrian*) and a risk tier (high/medium/low) using rules on distance, directionality, and VRU presence. The result is`taxonomy_named.jsonl`."
      ],
      "metadata": {
        "id": "VDys8vUl1uuY"
      }
    },
    {
      "cell_type": "code",
      "source": [
        "# Heuristic namer\n",
        "def name_and_risk(stats):\n",
        "    dom = stats[\"dominant_other\"]\n",
        "    dmin = stats[\"min_dist_min\"] or 1e9\n",
        "    ahead = stats[\"ahead_mean\"] or 0.0\n",
        "    oncoming = stats[\"oncoming_mean\"] or 0.0\n",
        "    aligned = stats[\"aligned_mean\"] or 0.0\n",
        "    close_rate = stats[\"pct_close_under_10m\"] or 0.0\n",
        "\n",
        "    if dom in (\"pedestrian\",\"cyclist\"):\n",
        "        base = \"vru_interaction\"  # vulnerable road user\n",
        "    elif oncoming > 0.5:\n",
        "        base = \"oncoming_interaction\"\n",
        "    elif aligned > 0.6 and ahead > 0.5:\n",
        "        base = \"following\"\n",
        "    elif dmin < 6 or close_rate > 0.3:\n",
        "        base = \"close_pass\"\n",
        "    else:\n",
        "        base = \"general_vehicle_interaction\"\n",
        "\n",
        "    # Simple risk rubric\n",
        "    if (dom in (\"pedestrian\",\"cyclist\") and dmin < 12) or dmin < 6:\n",
        "        risk = \"high\"\n",
        "    elif dmin < 15 or base in (\"following\",\"oncoming_interaction\"):\n",
        "        risk = \"medium\"\n",
        "    else:\n",
        "        risk = \"low\"\n",
        "    return f\"{base}_{dom}\", risk\n",
        "\n",
        "# Apply to taxonomy and save\n",
        "OUT_TAX_NAMED = \"/content/taxonomy_named.jsonl\"\n",
        "with open(OUT_TAX_NAMED, \"w\") as f:\n",
        "    for t in taxonomy:\n",
        "        nm, rk = name_and_risk(t[\"_stats\"])\n",
        "        t[\"name\"] = nm\n",
        "        t[\"risk_level\"] = rk\n",
        "        f.write(json.dumps({\n",
        "            \"cluster_id\": t[\"cluster_id\"],\n",
        "            \"name\": nm,\n",
        "            \"risk_level\": rk,\n",
        "            \"size\": t[\"_stats\"][\"n\"],\n",
        "            \"stats\": t[\"_stats\"],\n",
        "            \"representative_text\": t[\"representative_text\"],\n",
        "            \"member_indices\": t[\"member_indices\"],\n",
        "        }) + \"\\n\")\n",
        "\n",
        "print(\"Saved:\", OUT_TAX_NAMED)\n",
        "# Quick preview\n",
        "for line in open(OUT_TAX_NAMED):\n",
        "    obj = json.loads(line);\n",
        "    print(f\"[{obj['cluster_id']}] {obj['name']} | risk={obj['risk_level']} | n={obj['size']}\")"
      ],
      "metadata": {
        "colab": {
          "base_uri": "https://localhost:8080/",
          "height": 0
        },
        "id": "ZtEtdxH_lJOO",
        "outputId": "a762de13-d28b-48aa-9f7a-eae58c5ac0ae"
      },
      "execution_count": 17,
      "outputs": [
        {
          "output_type": "stream",
          "name": "stdout",
          "text": [
            "Saved: /content/taxonomy_named.jsonl\n",
            "[0] close_pass_vehicle | risk=high | n=12\n",
            "[1] general_vehicle_interaction_vehicle | risk=medium | n=15\n",
            "[2] general_vehicle_interaction_vehicle | risk=medium | n=13\n",
            "[3] vru_interaction_cyclist | risk=high | n=7\n",
            "[4] oncoming_interaction_vehicle | risk=high | n=7\n",
            "[5] general_vehicle_interaction_vehicle | risk=low | n=6\n"
          ]
        }
      ]
    },
    {
      "cell_type": "markdown",
      "source": [
        "### Scenario book (human-readable output)  \n",
        "Finally, we export each cluster into a scenario book.\n",
        "\n",
        "For every cluster, we log its name, risk tier, a representative example, and the top-K closest interactions (by min distance).  \n",
        "\n",
        "The result is an MD file where engineers can quickly browse scenarios and clusters, spotting risky or unusual cases without parsing JSON."
      ],
      "metadata": {
        "id": "L0-mZign2Hx0"
      }
    },
    {
      "cell_type": "code",
      "source": [
        "K = 3\n",
        "OUT_BOOK = \"/content/scenario_book.md\"\n",
        "\n",
        "def short_line(e):\n",
        "    return (f\"- scene={e['scene_id']} | other={e['other_type']} | \"\n",
        "            f\"min_dist={e['min_dist_m']:.1f}m | \"\n",
        "            f\"ahead={e['ahead_frac']:.2f} oncoming={e['oncoming_frac']:.2f} aligned={e['aligned_frac']:.2f}\")\n",
        "\n",
        "with open(OUT_BOOK, \"w\") as md:\n",
        "    for row in [json.loads(x) for x in open(OUT_TAX_NAMED)]:\n",
        "        cid = row[\"cluster_id\"]; name = row[\"name\"]; n = row[\"size\"]\n",
        "        idxs = row[\"member_indices\"]\n",
        "        members = [events[i] for i in idxs]\n",
        "        members_sorted = sorted(members, key=lambda e: e.get(\"min_dist_m\", 1e9))[:K]\n",
        "\n",
        "        md.write(f\"## Cluster {cid}: {name} (n={n})\\n\")\n",
        "        md.write(f\"_Risk: {row['risk_level']}_  |  rep: {row['representative_text']}\\n\\n\")\n",
        "\n",
        "        for j, e in enumerate(members_sorted, 1):\n",
        "            summary = e.get(\"summary\") or short_line(e)\n",
        "            md.write(f\"{j}. {summary}\\n\\n\")   # numbered and double newline\n",
        "\n",
        "print(\"Wrote:\", OUT_BOOK)\n",
        "\n",
        "# Show first ~30 lines inline\n",
        "with open(OUT_BOOK) as f:\n",
        "    for i, line in zip(range(30), f):\n",
        "        print(line, end=\"\")"
      ],
      "metadata": {
        "colab": {
          "base_uri": "https://localhost:8080/",
          "height": 0
        },
        "id": "_dSsx0wdj-mo",
        "outputId": "090bf048-eedd-4be9-c56d-b43f70a796b8"
      },
      "execution_count": 20,
      "outputs": [
        {
          "output_type": "stream",
          "name": "stdout",
          "text": [
            "Wrote: /content/scenario_book.md\n",
            "## Cluster 0: close_pass_vehicle (n=12)\n",
            "_Risk: high_  |  rep: The self vehicle and another vehicle maintained a safe distance, with the other vehicle trailing behind at a slightly slower speed. [label=none]\n",
            "\n",
            "1. vehicle and vehicle pass within 4.0 m at step 6.\n",
            "\n",
            "2. No notable event between vehicle and vehicle (min distance 5.5 m).\n",
            "\n",
            "3. No notable event between vehicle and vehicle (min distance 6.2 m).\n",
            "\n",
            "## Cluster 1: general_vehicle_interaction_vehicle (n=15)\n",
            "_Risk: medium_  |  rep: The self vehicle followed another vehicle at a safe distance and headway. [label=none]\n",
            "\n",
            "1. vehicle follows a vehicle with headway ≈ 0.4 s (gap ≈ 0.9 m).\n",
            "\n",
            "2. No notable event between vehicle and vehicle (min distance 7.8 m).\n",
            "\n",
            "3. vehicle and vehicle move on crossing paths; min distance ≈ 9.4 m.\n",
            "\n",
            "## Cluster 2: general_vehicle_interaction_vehicle (n=13)\n",
            "_Risk: medium_  |  rep: The self vehicle was stationary while another vehicle passed at a minimum distance of 26.17 meters. [label=none]\n",
            "\n",
            "1. No notable event between vehicle and vehicle (min distance 7.4 m).\n",
            "\n",
            "2. No notable event between vehicle and vehicle (min distance 8.1 m).\n",
            "\n",
            "3. No notable event between vehicle and vehicle (min distance 11.1 m).\n",
            "\n",
            "## Cluster 3: vru_interaction_cyclist (n=7)\n",
            "_Risk: high_  |  rep: A vehicle maintained a safe distance from a pedestrian ahead, with a minimum distance of 14.11 meters and a headway of 9.42 seconds. [label=ped_or_cyclist_nearby]\n",
            "\n"
          ]
        }
      ]
    },
    {
      "cell_type": "markdown",
      "source": [
        "# Snapshot of the Scenario Book\n",
        "\n",
        "Clusters 0, 3, and 4 are clear-cut groupings where vehicles pass too close, there's a VRU, or an oncoming vehicle.\n",
        "\n",
        "Interestingly, clusters 1, 2, and 5 are generalized clusters with varying risk levels. Clusters 1 and 2 share a medium risk while cluster 5 is labeled low risk. We can see from the kinematics data this is likely because vehicles are further away in cluster 5."
      ],
      "metadata": {
        "id": "LK1-LCEm2cJ4"
      }
    },
    {
      "cell_type": "code",
      "source": [
        "from IPython.display import Markdown, display\n",
        "\n",
        "def printmd(string):\n",
        "    display(Markdown(string))\n",
        "\n",
        "with open('scenario_book.md', 'r') as f:\n",
        "    markdown_content = f.read()\n",
        "\n",
        "# Display the Markdown content\n",
        "printmd(markdown_content)"
      ],
      "metadata": {
        "colab": {
          "base_uri": "https://localhost:8080/",
          "height": 987
        },
        "id": "1Gh_dnwnk5vP",
        "outputId": "30ca3a74-19b6-48a2-9ce6-c596d10d41bb"
      },
      "execution_count": 21,
      "outputs": [
        {
          "output_type": "display_data",
          "data": {
            "text/plain": [
              "<IPython.core.display.Markdown object>"
            ],
            "text/markdown": "## Cluster 0: close_pass_vehicle (n=12)\n_Risk: high_  |  rep: The self vehicle and another vehicle maintained a safe distance, with the other vehicle trailing behind at a slightly slower speed. [label=none]\n\n1. vehicle and vehicle pass within 4.0 m at step 6.\n\n2. No notable event between vehicle and vehicle (min distance 5.5 m).\n\n3. No notable event between vehicle and vehicle (min distance 6.2 m).\n\n## Cluster 1: general_vehicle_interaction_vehicle (n=15)\n_Risk: medium_  |  rep: The self vehicle followed another vehicle at a safe distance and headway. [label=none]\n\n1. vehicle follows a vehicle with headway ≈ 0.4 s (gap ≈ 0.9 m).\n\n2. No notable event between vehicle and vehicle (min distance 7.8 m).\n\n3. vehicle and vehicle move on crossing paths; min distance ≈ 9.4 m.\n\n## Cluster 2: general_vehicle_interaction_vehicle (n=13)\n_Risk: medium_  |  rep: The self vehicle was stationary while another vehicle passed at a minimum distance of 26.17 meters. [label=none]\n\n1. No notable event between vehicle and vehicle (min distance 7.4 m).\n\n2. No notable event between vehicle and vehicle (min distance 8.1 m).\n\n3. No notable event between vehicle and vehicle (min distance 11.1 m).\n\n## Cluster 3: vru_interaction_cyclist (n=7)\n_Risk: high_  |  rep: A vehicle maintained a safe distance from a pedestrian ahead, with a minimum distance of 14.11 meters and a headway of 9.42 seconds. [label=ped_or_cyclist_nearby]\n\n1. vehicle near a cyclist (min distance ≈ 9.1 m).\n\n2. No notable event between vehicle and pedestrian (min distance 14.1 m).\n\n3. No notable event between vehicle and cyclist (min distance 19.5 m).\n\n## Cluster 4: oncoming_interaction_vehicle (n=7)\n_Risk: high_  |  rep: The self vehicle had an oncoming interaction with another vehicle, maintaining a minimum distance of 54.23 meters and a time to collision of 3.33 seconds. [label=oncoming_interaction]\n\n1. vehicle and pedestrian pass within 3.0 m at step 0.\n\n2. vehicle and vehicle move on crossing paths; min distance ≈ 16.0 m.\n\n3. vehicle and pedestrian move on crossing paths; min distance ≈ 18.4 m.\n\n## Cluster 5: general_vehicle_interaction_vehicle (n=6)\n_Risk: low_  |  rep: The two vehicles maintained a safe distance from each other, with the ego vehicle moving faster than the other. [label=none]\n\n1. No notable event between vehicle and vehicle (min distance 17.3 m).\n\n2. No notable event between vehicle and vehicle (min distance 18.2 m).\n\n3. No notable event between vehicle and vehicle (min distance 21.9 m).\n\n"
          },
          "metadata": {}
        }
      ]
    },
    {
      "cell_type": "markdown",
      "source": [
        "### Wrap-up  \n",
        "The pipeline in this notebook can be summarized as such:\n",
        "\n",
        "```Waymo Motion data → distilled features → GenAI summaries → clustering into a taxonomy → a browsable scenario book.  ```\n",
        "\n",
        "The **result** is a repeatable way to surface risky or unusual driving situations+ edge cases and group them into testable buckets, illustrating how GenAI can support Systems/Test Engineering at scale and reduce dependency on human-led event labeling and summarizing."
      ],
      "metadata": {
        "id": "GcHljvdD32gA"
      }
    }
  ]
}